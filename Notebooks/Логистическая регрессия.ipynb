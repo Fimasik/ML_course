{
 "cells": [
  {
   "cell_type": "markdown",
   "metadata": {},
   "source": [
    "<center>\n",
    "## МАТЕМАТИЧЕСКИЙ АППАРАТ ЛОГИСТИЧЕСКОЙ РЕГРЕССИИ"
   ]
  },
  {
   "cell_type": "code",
   "execution_count": 139,
   "metadata": {
    "collapsed": true
   },
   "outputs": [],
   "source": [
    "import numpy as np\n",
    "import pandas as pd\n",
    "import matplotlib.pyplot as plt\n",
    "%matplotlib inline\n",
    "from IPython.display import display\n",
    "plt.rc('font', family='Verdana')"
   ]
  },
  {
   "cell_type": "code",
   "execution_count": null,
   "metadata": {
    "collapsed": true
   },
   "outputs": [],
   "source": []
  },
  {
   "cell_type": "code",
   "execution_count": 140,
   "metadata": {},
   "outputs": [
    {
     "data": {
      "text/html": [
       "<div>\n",
       "<style scoped>\n",
       "    .dataframe tbody tr th:only-of-type {\n",
       "        vertical-align: middle;\n",
       "    }\n",
       "\n",
       "    .dataframe tbody tr th {\n",
       "        vertical-align: top;\n",
       "    }\n",
       "\n",
       "    .dataframe thead th {\n",
       "        text-align: right;\n",
       "    }\n",
       "</style>\n",
       "<table border=\"1\" class=\"dataframe\">\n",
       "  <thead>\n",
       "    <tr style=\"text-align: right;\">\n",
       "      <th></th>\n",
       "      <th>age</th>\n",
       "      <th>employ</th>\n",
       "      <th>address</th>\n",
       "      <th>debtinc</th>\n",
       "      <th>creddebt</th>\n",
       "      <th>default</th>\n",
       "    </tr>\n",
       "  </thead>\n",
       "  <tbody>\n",
       "    <tr>\n",
       "      <th>0</th>\n",
       "      <td>28</td>\n",
       "      <td>7</td>\n",
       "      <td>2</td>\n",
       "      <td>17,7</td>\n",
       "      <td>2,990592</td>\n",
       "      <td>0</td>\n",
       "    </tr>\n",
       "    <tr>\n",
       "      <th>1</th>\n",
       "      <td>64</td>\n",
       "      <td>34</td>\n",
       "      <td>17</td>\n",
       "      <td>14,7</td>\n",
       "      <td>5,047392</td>\n",
       "      <td>0</td>\n",
       "    </tr>\n",
       "    <tr>\n",
       "      <th>2</th>\n",
       "      <td>40</td>\n",
       "      <td>20</td>\n",
       "      <td>12</td>\n",
       "      <td>4,8</td>\n",
       "      <td>1,042368</td>\n",
       "      <td>0</td>\n",
       "    </tr>\n",
       "    <tr>\n",
       "      <th>3</th>\n",
       "      <td>30</td>\n",
       "      <td>11</td>\n",
       "      <td>3</td>\n",
       "      <td>34,5</td>\n",
       "      <td>1,75122</td>\n",
       "      <td>0</td>\n",
       "    </tr>\n",
       "    <tr>\n",
       "      <th>4</th>\n",
       "      <td>25</td>\n",
       "      <td>2</td>\n",
       "      <td>2</td>\n",
       "      <td>22,4</td>\n",
       "      <td>0,75936</td>\n",
       "      <td>1</td>\n",
       "    </tr>\n",
       "  </tbody>\n",
       "</table>\n",
       "</div>"
      ],
      "text/plain": [
       "   age  employ  address debtinc  creddebt  default\n",
       "0   28       7        2    17,7  2,990592        0\n",
       "1   64      34       17    14,7  5,047392        0\n",
       "2   40      20       12     4,8  1,042368        0\n",
       "3   30      11        3    34,5   1,75122        0\n",
       "4   25       2        2    22,4   0,75936        1"
      ]
     },
     "execution_count": 140,
     "metadata": {},
     "output_type": "execute_result"
    }
   ],
   "source": [
    "data = pd.read_csv(\"C:/Trees/Bankloan.csv\", encoding='cp1251', sep=';')\n",
    "data.head()"
   ]
  },
  {
   "cell_type": "code",
   "execution_count": 141,
   "metadata": {
    "collapsed": true
   },
   "outputs": [],
   "source": [
    "for i in ['debtinc', 'creddebt']:\n",
    "    if i in data.columns:\n",
    "        data[i]=data[i].str.replace(',', '.').astype('float')"
   ]
  },
  {
   "cell_type": "code",
   "execution_count": 142,
   "metadata": {},
   "outputs": [
    {
     "data": {
      "text/html": [
       "<div>\n",
       "<style scoped>\n",
       "    .dataframe tbody tr th:only-of-type {\n",
       "        vertical-align: middle;\n",
       "    }\n",
       "\n",
       "    .dataframe tbody tr th {\n",
       "        vertical-align: top;\n",
       "    }\n",
       "\n",
       "    .dataframe thead th {\n",
       "        text-align: right;\n",
       "    }\n",
       "</style>\n",
       "<table border=\"1\" class=\"dataframe\">\n",
       "  <thead>\n",
       "    <tr style=\"text-align: right;\">\n",
       "      <th></th>\n",
       "      <th>age</th>\n",
       "      <th>employ</th>\n",
       "      <th>address</th>\n",
       "      <th>debtinc</th>\n",
       "      <th>creddebt</th>\n",
       "      <th>default</th>\n",
       "    </tr>\n",
       "  </thead>\n",
       "  <tbody>\n",
       "    <tr>\n",
       "      <th>0</th>\n",
       "      <td>28</td>\n",
       "      <td>7</td>\n",
       "      <td>2</td>\n",
       "      <td>17.7</td>\n",
       "      <td>2.990592</td>\n",
       "      <td>0</td>\n",
       "    </tr>\n",
       "    <tr>\n",
       "      <th>1</th>\n",
       "      <td>64</td>\n",
       "      <td>34</td>\n",
       "      <td>17</td>\n",
       "      <td>14.7</td>\n",
       "      <td>5.047392</td>\n",
       "      <td>0</td>\n",
       "    </tr>\n",
       "    <tr>\n",
       "      <th>2</th>\n",
       "      <td>40</td>\n",
       "      <td>20</td>\n",
       "      <td>12</td>\n",
       "      <td>4.8</td>\n",
       "      <td>1.042368</td>\n",
       "      <td>0</td>\n",
       "    </tr>\n",
       "    <tr>\n",
       "      <th>3</th>\n",
       "      <td>30</td>\n",
       "      <td>11</td>\n",
       "      <td>3</td>\n",
       "      <td>34.5</td>\n",
       "      <td>1.751220</td>\n",
       "      <td>0</td>\n",
       "    </tr>\n",
       "    <tr>\n",
       "      <th>4</th>\n",
       "      <td>25</td>\n",
       "      <td>2</td>\n",
       "      <td>2</td>\n",
       "      <td>22.4</td>\n",
       "      <td>0.759360</td>\n",
       "      <td>1</td>\n",
       "    </tr>\n",
       "  </tbody>\n",
       "</table>\n",
       "</div>"
      ],
      "text/plain": [
       "   age  employ  address  debtinc  creddebt  default\n",
       "0   28       7        2     17.7  2.990592        0\n",
       "1   64      34       17     14.7  5.047392        0\n",
       "2   40      20       12      4.8  1.042368        0\n",
       "3   30      11        3     34.5  1.751220        0\n",
       "4   25       2        2     22.4  0.759360        1"
      ]
     },
     "execution_count": 142,
     "metadata": {},
     "output_type": "execute_result"
    }
   ],
   "source": [
    "data.head()"
   ]
  },
  {
   "cell_type": "code",
   "execution_count": 143,
   "metadata": {
    "collapsed": true
   },
   "outputs": [],
   "source": [
    "data['default']=data['default'].astype('object')"
   ]
  },
  {
   "cell_type": "code",
   "execution_count": 144,
   "metadata": {
    "scrolled": true
   },
   "outputs": [
    {
     "name": "stdout",
     "output_type": "stream",
     "text": [
      "<class 'pandas.core.frame.DataFrame'>\n",
      "RangeIndex: 1500 entries, 0 to 1499\n",
      "Data columns (total 6 columns):\n",
      "age         1500 non-null int64\n",
      "employ      1500 non-null int64\n",
      "address     1500 non-null int64\n",
      "debtinc     1500 non-null float64\n",
      "creddebt    1500 non-null float64\n",
      "default     1500 non-null object\n",
      "dtypes: float64(2), int64(3), object(1)\n",
      "memory usage: 70.4+ KB\n"
     ]
    }
   ],
   "source": [
    "data.info()"
   ]
  },
  {
   "cell_type": "code",
   "execution_count": 145,
   "metadata": {},
   "outputs": [
    {
     "name": "stdout",
     "output_type": "stream",
     "text": [
      "Исходные переменные:\n",
      " ['age', 'employ', 'address', 'debtinc', 'creddebt', 'default'] \n",
      "\n",
      "Переменные после get_dummies:\n",
      " ['age', 'employ', 'address', 'debtinc', 'creddebt', 'default_0', 'default_1']\n"
     ]
    }
   ],
   "source": [
    "print(\"Исходные переменные:\\n\", list(data.columns), \"\\n\")\n",
    "data_dummies = pd.get_dummies(data)\n",
    "print(\"Переменные после get_dummies:\\n\", list(data_dummies.columns))"
   ]
  },
  {
   "cell_type": "code",
   "execution_count": 146,
   "metadata": {
    "collapsed": true
   },
   "outputs": [],
   "source": [
    "y = data_dummies.loc[:, 'default_1']\n",
    "data_dummies.drop('default_0', axis=1, inplace=True)\n",
    "data_dummies.drop('default_1', axis=1, inplace=True)\n",
    "X = data_dummies.loc[:, 'age':'creddebt']"
   ]
  },
  {
   "cell_type": "code",
   "execution_count": 147,
   "metadata": {
    "collapsed": true
   },
   "outputs": [],
   "source": [
    "from sklearn.model_selection import train_test_split\n",
    "X_train, X_test, y_train, y_test = train_test_split(X, y, test_size=0.3, random_state=42)\n",
    "from sklearn.metrics import roc_auc_score\n",
    "from sklearn.linear_model import LogisticRegression"
   ]
  },
  {
   "cell_type": "code",
   "execution_count": 148,
   "metadata": {},
   "outputs": [
    {
     "name": "stdout",
     "output_type": "stream",
     "text": [
      "AUC на обучающей выборке: 0.848\n",
      "AUC на контрольной выборке: 0.832\n"
     ]
    }
   ],
   "source": [
    "# применяем RobustScaler\n",
    "from sklearn.preprocessing import RobustScaler\n",
    "scaler = RobustScaler()\n",
    "scaler.fit(X_train)\n",
    "X_train_scaled = scaler.transform(X_train)\n",
    "X_test_scaled = scaler.transform(X_test)\n",
    "\n",
    "# строим модель логистической регрессии на данных,\n",
    "# отмасштабированных с помощью RobustScaler\n",
    "logreg = LogisticRegression().fit(X_train_scaled, y_train)\n",
    "print(\"AUC на обучающей выборке: {:.3f}\".\n",
    "      format(roc_auc_score(y_train, logreg.predict_proba(X_train_scaled)[:, 1])))\n",
    "print(\"AUC на контрольной выборке: {:.3f}\".\n",
    "      format(roc_auc_score(y_test, logreg.predict_proba(X_test_scaled)[:, 1])))"
   ]
  },
  {
   "cell_type": "code",
   "execution_count": 149,
   "metadata": {
    "scrolled": false
   },
   "outputs": [
    {
     "data": {
      "text/plain": [
       "array([[-0.56889341, -2.20105503, -0.01326422,  0.8788113 ,  0.87526835]])"
      ]
     },
     "execution_count": 149,
     "metadata": {},
     "output_type": "execute_result"
    }
   ],
   "source": [
    "logreg.coef_"
   ]
  },
  {
   "cell_type": "code",
   "execution_count": 150,
   "metadata": {
    "collapsed": true
   },
   "outputs": [],
   "source": [
    "coef=logreg.coef_\n",
    "feat_labels = X.columns"
   ]
  },
  {
   "cell_type": "code",
   "execution_count": 151,
   "metadata": {
    "scrolled": false
   },
   "outputs": [
    {
     "name": "stdout",
     "output_type": "stream",
     "text": [
      "age -0.568893408455\n",
      "employ -2.20105502509\n",
      "address -0.0132642226832\n",
      "debtinc 0.878811302173\n",
      "creddebt 0.875268353245\n"
     ]
    }
   ],
   "source": [
    "for c, feature in zip(coef[0], feat_labels):\n",
    "    print(feature, c)"
   ]
  },
  {
   "cell_type": "code",
   "execution_count": 152,
   "metadata": {},
   "outputs": [
    {
     "data": {
      "text/plain": [
       "array([[ 0.56615159,  0.11068632,  0.98682336,  2.40803558,  2.39951913]])"
      ]
     },
     "execution_count": 152,
     "metadata": {},
     "output_type": "execute_result"
    }
   ],
   "source": [
    "exp_coef=np.exp(coef)\n",
    "exp_coef"
   ]
  },
  {
   "cell_type": "code",
   "execution_count": 153,
   "metadata": {
    "scrolled": true
   },
   "outputs": [
    {
     "name": "stdout",
     "output_type": "stream",
     "text": [
      "age 0.566151590752\n",
      "employ 0.110686319895\n",
      "address 0.986823359455\n",
      "debtinc 2.40803557781\n",
      "creddebt 2.39951912632\n"
     ]
    }
   ],
   "source": [
    "for c, feature in zip(exp_coef[0], feat_labels):\n",
    "    print(feature, c)"
   ]
  },
  {
   "cell_type": "code",
   "execution_count": 154,
   "metadata": {},
   "outputs": [
    {
     "data": {
      "text/plain": [
       "array([-0.89234106])"
      ]
     },
     "execution_count": 154,
     "metadata": {},
     "output_type": "execute_result"
    }
   ],
   "source": [
    "intercept=logreg.intercept_\n",
    "intercept"
   ]
  },
  {
   "cell_type": "code",
   "execution_count": 115,
   "metadata": {},
   "outputs": [
    {
     "data": {
      "text/plain": [
       "array([1, 0, 0, ..., 1, 0, 0], dtype=uint8)"
      ]
     },
     "execution_count": 115,
     "metadata": {},
     "output_type": "execute_result"
    }
   ],
   "source": [
    "predvalue = logreg.predict(X_train_scaled)\n",
    "predvalue"
   ]
  },
  {
   "cell_type": "code",
   "execution_count": 116,
   "metadata": {},
   "outputs": [
    {
     "data": {
      "text/html": [
       "<div>\n",
       "<style scoped>\n",
       "    .dataframe tbody tr th:only-of-type {\n",
       "        vertical-align: middle;\n",
       "    }\n",
       "\n",
       "    .dataframe tbody tr th {\n",
       "        vertical-align: top;\n",
       "    }\n",
       "\n",
       "    .dataframe thead th {\n",
       "        text-align: right;\n",
       "    }\n",
       "</style>\n",
       "<table border=\"1\" class=\"dataframe\">\n",
       "  <thead>\n",
       "    <tr style=\"text-align: right;\">\n",
       "      <th></th>\n",
       "      <th>Predicted_class</th>\n",
       "    </tr>\n",
       "  </thead>\n",
       "  <tbody>\n",
       "    <tr>\n",
       "      <th>485</th>\n",
       "      <td>1</td>\n",
       "    </tr>\n",
       "    <tr>\n",
       "      <th>527</th>\n",
       "      <td>0</td>\n",
       "    </tr>\n",
       "    <tr>\n",
       "      <th>199</th>\n",
       "      <td>0</td>\n",
       "    </tr>\n",
       "    <tr>\n",
       "      <th>889</th>\n",
       "      <td>0</td>\n",
       "    </tr>\n",
       "    <tr>\n",
       "      <th>844</th>\n",
       "      <td>1</td>\n",
       "    </tr>\n",
       "  </tbody>\n",
       "</table>\n",
       "</div>"
      ],
      "text/plain": [
       "     Predicted_class\n",
       "485                1\n",
       "527                0\n",
       "199                0\n",
       "889                0\n",
       "844                1"
      ]
     },
     "execution_count": 116,
     "metadata": {},
     "output_type": "execute_result"
    }
   ],
   "source": [
    "predvalue=pd.DataFrame(predvalue, index=X_train.index, columns=['Predicted_class'])\n",
    "predvalue.head()"
   ]
  },
  {
   "cell_type": "code",
   "execution_count": 117,
   "metadata": {},
   "outputs": [
    {
     "data": {
      "text/plain": [
       "array([[ 0.49565917,  0.50434083],\n",
       "       [ 0.77963554,  0.22036446],\n",
       "       [ 0.64022823,  0.35977177],\n",
       "       ..., \n",
       "       [ 0.23357302,  0.76642698],\n",
       "       [ 0.95415838,  0.04584162],\n",
       "       [ 0.97300933,  0.02699067]])"
      ]
     },
     "execution_count": 117,
     "metadata": {},
     "output_type": "execute_result"
    }
   ],
   "source": [
    "prob = logreg.predict_proba(X_train_scaled)\n",
    "prob"
   ]
  },
  {
   "cell_type": "code",
   "execution_count": 118,
   "metadata": {
    "scrolled": true
   },
   "outputs": [
    {
     "data": {
      "text/html": [
       "<div>\n",
       "<style scoped>\n",
       "    .dataframe tbody tr th:only-of-type {\n",
       "        vertical-align: middle;\n",
       "    }\n",
       "\n",
       "    .dataframe tbody tr th {\n",
       "        vertical-align: top;\n",
       "    }\n",
       "\n",
       "    .dataframe thead th {\n",
       "        text-align: right;\n",
       "    }\n",
       "</style>\n",
       "<table border=\"1\" class=\"dataframe\">\n",
       "  <thead>\n",
       "    <tr style=\"text-align: right;\">\n",
       "      <th></th>\n",
       "      <th>Prob0</th>\n",
       "      <th>Prob1</th>\n",
       "    </tr>\n",
       "  </thead>\n",
       "  <tbody>\n",
       "    <tr>\n",
       "      <th>485</th>\n",
       "      <td>0.495659</td>\n",
       "      <td>0.504341</td>\n",
       "    </tr>\n",
       "    <tr>\n",
       "      <th>527</th>\n",
       "      <td>0.779636</td>\n",
       "      <td>0.220364</td>\n",
       "    </tr>\n",
       "    <tr>\n",
       "      <th>199</th>\n",
       "      <td>0.640228</td>\n",
       "      <td>0.359772</td>\n",
       "    </tr>\n",
       "    <tr>\n",
       "      <th>889</th>\n",
       "      <td>0.798713</td>\n",
       "      <td>0.201287</td>\n",
       "    </tr>\n",
       "    <tr>\n",
       "      <th>844</th>\n",
       "      <td>0.429674</td>\n",
       "      <td>0.570326</td>\n",
       "    </tr>\n",
       "  </tbody>\n",
       "</table>\n",
       "</div>"
      ],
      "text/plain": [
       "        Prob0     Prob1\n",
       "485  0.495659  0.504341\n",
       "527  0.779636  0.220364\n",
       "199  0.640228  0.359772\n",
       "889  0.798713  0.201287\n",
       "844  0.429674  0.570326"
      ]
     },
     "execution_count": 118,
     "metadata": {},
     "output_type": "execute_result"
    }
   ],
   "source": [
    "probabilities=pd.DataFrame(prob, index=X_train.index, columns=['Prob0', 'Prob1'])\n",
    "probabilities.head()"
   ]
  },
  {
   "cell_type": "code",
   "execution_count": 119,
   "metadata": {},
   "outputs": [
    {
     "data": {
      "text/html": [
       "<div>\n",
       "<style scoped>\n",
       "    .dataframe tbody tr th:only-of-type {\n",
       "        vertical-align: middle;\n",
       "    }\n",
       "\n",
       "    .dataframe tbody tr th {\n",
       "        vertical-align: top;\n",
       "    }\n",
       "\n",
       "    .dataframe thead th {\n",
       "        text-align: right;\n",
       "    }\n",
       "</style>\n",
       "<table border=\"1\" class=\"dataframe\">\n",
       "  <thead>\n",
       "    <tr style=\"text-align: right;\">\n",
       "      <th></th>\n",
       "      <th>age</th>\n",
       "      <th>employ</th>\n",
       "      <th>address</th>\n",
       "      <th>debtinc</th>\n",
       "      <th>creddebt</th>\n",
       "    </tr>\n",
       "  </thead>\n",
       "  <tbody>\n",
       "    <tr>\n",
       "      <th>485</th>\n",
       "      <td>-0.555556</td>\n",
       "      <td>-0.3</td>\n",
       "      <td>-0.571429</td>\n",
       "      <td>-0.022989</td>\n",
       "      <td>-0.061742</td>\n",
       "    </tr>\n",
       "    <tr>\n",
       "      <th>527</th>\n",
       "      <td>-0.166667</td>\n",
       "      <td>0.0</td>\n",
       "      <td>0.000000</td>\n",
       "      <td>-0.287356</td>\n",
       "      <td>-0.243909</td>\n",
       "    </tr>\n",
       "    <tr>\n",
       "      <th>199</th>\n",
       "      <td>0.111111</td>\n",
       "      <td>0.0</td>\n",
       "      <td>-0.142857</td>\n",
       "      <td>0.091954</td>\n",
       "      <td>0.338743</td>\n",
       "    </tr>\n",
       "    <tr>\n",
       "      <th>889</th>\n",
       "      <td>2.222222</td>\n",
       "      <td>-0.2</td>\n",
       "      <td>1.142857</td>\n",
       "      <td>0.160920</td>\n",
       "      <td>0.241992</td>\n",
       "    </tr>\n",
       "    <tr>\n",
       "      <th>844</th>\n",
       "      <td>-0.611111</td>\n",
       "      <td>-0.4</td>\n",
       "      <td>-0.571429</td>\n",
       "      <td>0.126437</td>\n",
       "      <td>-0.195654</td>\n",
       "    </tr>\n",
       "  </tbody>\n",
       "</table>\n",
       "</div>"
      ],
      "text/plain": [
       "          age  employ   address   debtinc  creddebt\n",
       "485 -0.555556    -0.3 -0.571429 -0.022989 -0.061742\n",
       "527 -0.166667     0.0  0.000000 -0.287356 -0.243909\n",
       "199  0.111111     0.0 -0.142857  0.091954  0.338743\n",
       "889  2.222222    -0.2  1.142857  0.160920  0.241992\n",
       "844 -0.611111    -0.4 -0.571429  0.126437 -0.195654"
      ]
     },
     "execution_count": 119,
     "metadata": {},
     "output_type": "execute_result"
    }
   ],
   "source": [
    "X_tr=pd.DataFrame(X_train_scaled, index=X_train.index, columns=feat_labels)\n",
    "X_tr.head()"
   ]
  },
  {
   "cell_type": "code",
   "execution_count": 120,
   "metadata": {},
   "outputs": [
    {
     "data": {
      "text/html": [
       "<div>\n",
       "<style scoped>\n",
       "    .dataframe tbody tr th:only-of-type {\n",
       "        vertical-align: middle;\n",
       "    }\n",
       "\n",
       "    .dataframe tbody tr th {\n",
       "        vertical-align: top;\n",
       "    }\n",
       "\n",
       "    .dataframe thead th {\n",
       "        text-align: right;\n",
       "    }\n",
       "</style>\n",
       "<table border=\"1\" class=\"dataframe\">\n",
       "  <thead>\n",
       "    <tr style=\"text-align: right;\">\n",
       "      <th></th>\n",
       "      <th>age</th>\n",
       "      <th>employ</th>\n",
       "      <th>address</th>\n",
       "      <th>debtinc</th>\n",
       "      <th>creddebt</th>\n",
       "      <th>default_1</th>\n",
       "      <th>Predicted_class</th>\n",
       "      <th>Prob0</th>\n",
       "      <th>Prob1</th>\n",
       "    </tr>\n",
       "  </thead>\n",
       "  <tbody>\n",
       "    <tr>\n",
       "      <th>485</th>\n",
       "      <td>-0.555556</td>\n",
       "      <td>-0.3</td>\n",
       "      <td>-0.571429</td>\n",
       "      <td>-0.022989</td>\n",
       "      <td>-0.061742</td>\n",
       "      <td>0</td>\n",
       "      <td>1</td>\n",
       "      <td>0.495659</td>\n",
       "      <td>0.504341</td>\n",
       "    </tr>\n",
       "    <tr>\n",
       "      <th>527</th>\n",
       "      <td>-0.166667</td>\n",
       "      <td>0.0</td>\n",
       "      <td>0.000000</td>\n",
       "      <td>-0.287356</td>\n",
       "      <td>-0.243909</td>\n",
       "      <td>0</td>\n",
       "      <td>0</td>\n",
       "      <td>0.779636</td>\n",
       "      <td>0.220364</td>\n",
       "    </tr>\n",
       "    <tr>\n",
       "      <th>199</th>\n",
       "      <td>0.111111</td>\n",
       "      <td>0.0</td>\n",
       "      <td>-0.142857</td>\n",
       "      <td>0.091954</td>\n",
       "      <td>0.338743</td>\n",
       "      <td>0</td>\n",
       "      <td>0</td>\n",
       "      <td>0.640228</td>\n",
       "      <td>0.359772</td>\n",
       "    </tr>\n",
       "    <tr>\n",
       "      <th>889</th>\n",
       "      <td>2.222222</td>\n",
       "      <td>-0.2</td>\n",
       "      <td>1.142857</td>\n",
       "      <td>0.160920</td>\n",
       "      <td>0.241992</td>\n",
       "      <td>0</td>\n",
       "      <td>0</td>\n",
       "      <td>0.798713</td>\n",
       "      <td>0.201287</td>\n",
       "    </tr>\n",
       "    <tr>\n",
       "      <th>844</th>\n",
       "      <td>-0.611111</td>\n",
       "      <td>-0.4</td>\n",
       "      <td>-0.571429</td>\n",
       "      <td>0.126437</td>\n",
       "      <td>-0.195654</td>\n",
       "      <td>0</td>\n",
       "      <td>1</td>\n",
       "      <td>0.429674</td>\n",
       "      <td>0.570326</td>\n",
       "    </tr>\n",
       "  </tbody>\n",
       "</table>\n",
       "</div>"
      ],
      "text/plain": [
       "          age  employ   address   debtinc  creddebt  default_1  \\\n",
       "485 -0.555556    -0.3 -0.571429 -0.022989 -0.061742          0   \n",
       "527 -0.166667     0.0  0.000000 -0.287356 -0.243909          0   \n",
       "199  0.111111     0.0 -0.142857  0.091954  0.338743          0   \n",
       "889  2.222222    -0.2  1.142857  0.160920  0.241992          0   \n",
       "844 -0.611111    -0.4 -0.571429  0.126437 -0.195654          0   \n",
       "\n",
       "     Predicted_class     Prob0     Prob1  \n",
       "485                1  0.495659  0.504341  \n",
       "527                0  0.779636  0.220364  \n",
       "199                0  0.640228  0.359772  \n",
       "889                0  0.798713  0.201287  \n",
       "844                1  0.429674  0.570326  "
      ]
     },
     "execution_count": 120,
     "metadata": {},
     "output_type": "execute_result"
    }
   ],
   "source": [
    "result=pd.concat([X_tr, y_train, predvalue, probabilities], axis=1)\n",
    "result.head()"
   ]
  },
  {
   "cell_type": "markdown",
   "metadata": {},
   "source": [
    "Давайте вручную вычислим вероятность дефолта для наблюдения 485. \n",
    "\n",
    "Подставляем в формулу\n",
    "\n",
    "$$\\Large \\frac{1}{1+e^{-(b_0+b_1x_i^{(1)}+b_2x_i^{(2)}+...+b_kx_i^{(k)})}}$$ \n",
    "\n",
    "коэффициенты и значения предикторов для данного наблюдения."
   ]
  },
  {
   "cell_type": "markdown",
   "metadata": {},
   "source": [
    "<img src='../img/Prob_logreg.png'>\n",
    "\n",
    "\n",
    "Найденное значение практически совпадает со значением вероятности дефолта, вычисленным автоматически (0.504341). Небольшое различие обусловлено ошибкой округления."
   ]
  },
  {
   "cell_type": "code",
   "execution_count": 123,
   "metadata": {},
   "outputs": [
    {
     "name": "stdout",
     "output_type": "stream",
     "text": [
      "Матрица ошибок:\n",
      "[[591  84]\n",
      " [155 220]]\n"
     ]
    }
   ],
   "source": [
    "# из модуля sklearn.metrics импортируем функцию confusion_matrix\n",
    "from sklearn.metrics import confusion_matrix\n",
    "# вычисляем матрицу ошибок, передав функции confusion_matrix в качестве аргументов \n",
    "# фактические значения зависимой переменной, записанные в y_train, и спрогнозированные \n",
    "# значения зависимой переменной, записанные в predvalue\n",
    "confusion = confusion_matrix(y_train, predvalue)\n",
    "# Печатаем матрицу ошибок\n",
    "print(\"Матрица ошибок:\\n{}\".format(confusion))"
   ]
  },
  {
   "cell_type": "code",
   "execution_count": 9,
   "metadata": {
    "scrolled": true
   },
   "outputs": [
    {
     "name": "stdout",
     "output_type": "stream",
     "text": [
      "AUC на обучающей выборке: 0.906\n",
      "AUC на контрольной выборке: 0.815\n"
     ]
    }
   ],
   "source": [
    "from catboost import CatBoostClassifier\n",
    "boost = CatBoostClassifier(iterations=100, learning_rate=0.08, depth=5, random_seed=42, eval_metric='AUC')\n",
    "boost.fit(X_train, y_train)\n",
    "print(\"AUC на обучающей выборке: {:.3f}\".format(roc_auc_score(y_train, boost.predict_proba(X_train)[:, 1])))\n",
    "print(\"AUC на контрольной выборке: {:.3f}\".format(roc_auc_score(y_control, boost.predict_proba(X_control)[:, 1])))"
   ]
  },
  {
   "cell_type": "code",
   "execution_count": 10,
   "metadata": {},
   "outputs": [
    {
     "name": "stdout",
     "output_type": "stream",
     "text": [
      "Наилучшее значение AUC перекрестной проверки равно 0.826 и достигается при 120 деревьях\n"
     ]
    }
   ],
   "source": [
    "from sklearn.model_selection import StratifiedKFold\n",
    "strat = StratifiedKFold(n_splits=5, shuffle=True)\n",
    "\n",
    "# Создаем списки для сохранения AUC на обучающей и контрольной выборках\n",
    "train_auc = []\n",
    "test_auc = []\n",
    "temp_train_auc = []\n",
    "temp_test_auc = []\n",
    "iterations_grid = [40, 60, 80, 100, 120, 140]\n",
    "\n",
    "# Строим модели с разным количеством деревьев\n",
    "for ntrees in iterations_grid:\n",
    "    cat = CatBoostClassifier(iterations=ntrees, random_seed=42, eval_metric='AUC')\n",
    "    temp_train_auc = []\n",
    "    temp_test_auc = []\n",
    "    for train_index, test_index in strat.split(X, y):\n",
    "        X_train, X_test = X.iloc[train_index], X.iloc[test_index]\n",
    "        y_train, y_test = y[train_index], y[test_index]\n",
    "        cat.fit(X_train, y_train)\n",
    "        temp_train_auc.append(roc_auc_score(y_train, cat.predict_proba(X_train)[:, 1]))\n",
    "        temp_test_auc.append(roc_auc_score(y_test, cat.predict_proba(X_test)[:, 1]))\n",
    "    train_auc.append(temp_train_auc)\n",
    "    test_auc.append(temp_test_auc)\n",
    "\n",
    "# Преобразуем списки в массивы NumPy\n",
    "train_auc, test_auc = np.asarray(train_auc), np.asarray(test_auc)\n",
    "print(\"Наилучшее значение AUC перекрестной проверки равно {:.3f} и достигается при {} деревьях\".format(max(test_auc.mean(axis=1)), \n",
    "                                                        iterations_grid[np.argmax(test_auc.mean(axis=1))]))"
   ]
  },
  {
   "cell_type": "code",
   "execution_count": 11,
   "metadata": {},
   "outputs": [
    {
     "data": {
      "text/plain": [
       "<matplotlib.text.Text at 0x1b020141a20>"
      ]
     },
     "execution_count": 11,
     "metadata": {},
     "output_type": "execute_result"
    },
    {
     "data": {
      "image/png": "[encoded data removed]",
      "text/plain": [
       "<matplotlib.figure.Figure at 0x1b0201418d0>"
      ]
     },
     "metadata": {},
     "output_type": "display_data"
    }
   ],
   "source": [
    "plt.style.use('ggplot')\n",
    "\n",
    "fig, ax = plt.subplots(figsize=(8, 4))\n",
    "ax.plot(iterations_grid, train_auc.mean(axis=1), alpha=0.5, color='blue', \n",
    "        label='обучение')\n",
    "ax.plot(iterations_grid, test_auc.mean(axis=1), alpha=0.5, color='red', \n",
    "        label='перекрестная проверка')\n",
    "ax.fill_between(iterations_grid, test_auc.mean(axis=1) - test_auc.std(axis=1), test_auc.mean(axis=1) + test_auc.std(axis=1), color='#888888', alpha=0.4)\n",
    "ax.fill_between(iterations_grid, test_auc.mean(axis=1) - 2*test_auc.std(axis=1), test_auc.mean(axis=1) + 2*test_auc.std(axis=1), color='#888888', alpha=0.2)\n",
    "ax.legend(loc='best')\n",
    "ax.set_ylim([0.60,1.00])\n",
    "ax.set_ylabel(\"AUC\")\n",
    "ax.set_xlabel(\"Количество деревьев\")"
   ]
  },
  {
   "cell_type": "code",
   "execution_count": 12,
   "metadata": {},
   "outputs": [
    {
     "name": "stdout",
     "output_type": "stream",
     "text": [
      "Наилучшее значение AUC перекрестной проверки равно 0.826 и достигается при learning_rate 0.04\n"
     ]
    }
   ],
   "source": [
    "# Создаем списки для сохранения AUC на обучающей и контрольной выборках\n",
    "train_auc = []\n",
    "test_auc = []\n",
    "temp_train_auc = []\n",
    "temp_test_auc = []\n",
    "learning_rate_grid = [0.02, 0.04, 0.06, 0.08, 0.1, 0.2, 0.3, 0.4, 0.5]\n",
    "\n",
    "# Строим модели с разным значением learning_rate\n",
    "for learning_rate in learning_rate_grid:\n",
    "    cat = CatBoostClassifier(iterations=100, learning_rate=learning_rate, random_seed=42, eval_metric='AUC')\n",
    "    temp_train_auc = []\n",
    "    temp_test_auc = []\n",
    "    for train_index, test_index in strat.split(X, y):\n",
    "        X_train, X_test = X.iloc[train_index], X.iloc[test_index]\n",
    "        y_train, y_test = y[train_index], y[test_index]\n",
    "        cat.fit(X_train, y_train)\n",
    "        temp_train_auc.append(roc_auc_score(y_train, cat.predict_proba(X_train)[:, 1]))\n",
    "        temp_test_auc.append(roc_auc_score(y_test, cat.predict_proba(X_test)[:, 1]))\n",
    "    train_auc.append(temp_train_auc)\n",
    "    test_auc.append(temp_test_auc)\n",
    "\n",
    "# Преобразуем списки в массивы NumPy\n",
    "train_auc, test_auc = np.asarray(train_auc), np.asarray(test_auc)\n",
    "print(\"Наилучшее значение AUC перекрестной проверки равно {:.3f} и достигается при learning_rate {}\".format(max(test_auc.mean(axis=1)), \n",
    "                                                        learning_rate_grid[np.argmax(test_auc.mean(axis=1))]))"
   ]
  },
  {
   "cell_type": "code",
   "execution_count": 13,
   "metadata": {
    "scrolled": false
   },
   "outputs": [
    {
     "data": {
      "text/plain": [
       "<matplotlib.text.Text at 0x1b021613860>"
      ]
     },
     "execution_count": 13,
     "metadata": {},
     "output_type": "execute_result"
    },
    {
     "data": {
      "image/png": "[encoded data removed]",
      "text/plain": [
       "<matplotlib.figure.Figure at 0x1b02156ddd8>"
      ]
     },
     "metadata": {},
     "output_type": "display_data"
    }
   ],
   "source": [
    "fig, ax = plt.subplots(figsize=(8, 4))\n",
    "ax.plot(learning_rate_grid, train_auc.mean(axis=1), alpha=0.5, color='blue', label='обучение')\n",
    "ax.plot(learning_rate_grid, test_auc.mean(axis=1), alpha=0.5, color='red', label='перекрестная проверка')\n",
    "ax.fill_between(learning_rate_grid, test_auc.mean(axis=1) - test_auc.std(axis=1), test_auc.mean(axis=1) + test_auc.std(axis=1), color='#888888', alpha=0.4)\n",
    "ax.fill_between(learning_rate_grid, test_auc.mean(axis=1) - 2*test_auc.std(axis=1), test_auc.mean(axis=1) + 2*test_auc.std(axis=1), color='#888888', alpha=0.2)\n",
    "ax.legend(loc='best')\n",
    "ax.set_ylim([0.60,1.00])\n",
    "ax.set_ylabel(\"AUC\")\n",
    "ax.set_xlabel(\"Learning rate\")"
   ]
  },
  {
   "cell_type": "code",
   "execution_count": 14,
   "metadata": {},
   "outputs": [
    {
     "name": "stdout",
     "output_type": "stream",
     "text": [
      "Наилучшее значение AUC перекрестной проверки равно 0.829 и достигается при depth 4\n"
     ]
    }
   ],
   "source": [
    "# Создаем списки для сохранения AUC на обучающей и контрольной выборках\n",
    "train_auc = []\n",
    "test_auc = []\n",
    "temp_train_auc = []\n",
    "temp_test_auc = []\n",
    "depth_grid = [2, 3, 4, 5, 6, 7, 8, 9]\n",
    "\n",
    "# Строим модели с разным значением глубины\n",
    "for depth in depth_grid:\n",
    "    cat = CatBoostClassifier(iterations=100, learning_rate=0.04, depth=depth, random_seed=42, eval_metric='AUC')\n",
    "    temp_train_auc = []\n",
    "    temp_test_auc = []\n",
    "    for train_index, test_index in strat.split(X, y):\n",
    "        X_train, X_test = X.iloc[train_index], X.iloc[test_index]\n",
    "        y_train, y_test = y[train_index], y[test_index]\n",
    "        cat.fit(X_train, y_train)\n",
    "        temp_train_auc.append(roc_auc_score(y_train, cat.predict_proba(X_train)[:, 1]))\n",
    "        temp_test_auc.append(roc_auc_score(y_test, cat.predict_proba(X_test)[:, 1]))\n",
    "    train_auc.append(temp_train_auc)\n",
    "    test_auc.append(temp_test_auc)\n",
    "\n",
    "# Преобразуем списки в массивы NumPy\n",
    "train_auc, test_auc = np.asarray(train_auc), np.asarray(test_auc)\n",
    "print(\"Наилучшее значение AUC перекрестной проверки равно {:.3f} и достигается при depth {}\".format(max(test_auc.mean(axis=1)), \n",
    "                                                        depth_grid[np.argmax(test_auc.mean(axis=1))]))"
   ]
  },
  {
   "cell_type": "code",
   "execution_count": 15,
   "metadata": {},
   "outputs": [
    {
     "data": {
      "text/plain": [
       "<matplotlib.text.Text at 0x1b0216d2470>"
      ]
     },
     "execution_count": 15,
     "metadata": {},
     "output_type": "execute_result"
    },
    {
     "data": {
      "image/png": "[encoded data removed]",
      "text/plain": [
       "<matplotlib.figure.Figure at 0x1b021641e80>"
      ]
     },
     "metadata": {},
     "output_type": "display_data"
    }
   ],
   "source": [
    "fig, ax = plt.subplots(figsize=(8, 4))\n",
    "ax.plot(depth_grid, train_auc.mean(axis=1), alpha=0.5, color='blue', label='обучение')\n",
    "ax.plot(depth_grid, test_auc.mean(axis=1), alpha=0.5, color='red', label='перекрестная проверка')\n",
    "ax.fill_between(depth_grid, test_auc.mean(axis=1) - test_auc.std(axis=1), test_auc.mean(axis=1) + test_auc.std(axis=1), color='#888888', alpha=0.4)\n",
    "ax.fill_between(depth_grid, test_auc.mean(axis=1) - 2*test_auc.std(axis=1), test_auc.mean(axis=1) + 2*test_auc.std(axis=1), color='#888888', alpha=0.2)\n",
    "ax.legend(loc='best')\n",
    "ax.set_ylim([0.60,1.00])\n",
    "ax.set_ylabel(\"AUC\")\n",
    "ax.set_xlabel(\"Максимальная глубина\")"
   ]
  },
  {
   "cell_type": "code",
   "execution_count": 16,
   "metadata": {},
   "outputs": [
    {
     "name": "stdout",
     "output_type": "stream",
     "text": [
      "Наилучшее значение AUC перекрестной проверки равно 0.816 и достигается при rsm 0.2\n"
     ]
    }
   ],
   "source": [
    "# Создаем списки для сохранения AUC на обучающей и контрольной выборках\n",
    "train_auc = []\n",
    "test_auc = []\n",
    "temp_train_auc = []\n",
    "temp_test_auc = []\n",
    "rsm_grid = [0.2, 0.4, 0.6, 0.8]\n",
    "\n",
    "# Строим модели с разным количеством признаков\n",
    "for rsm in rsm_grid:\n",
    "    cat = CatBoostClassifier(iterations=100, learning_rate=0.3, depth=4, rsm=rsm, random_seed=42, eval_metric='AUC')\n",
    "    temp_train_auc = []\n",
    "    temp_test_auc = []\n",
    "    for train_index, test_index in strat.split(X, y):\n",
    "        X_train, X_test = X.iloc[train_index], X.iloc[test_index]\n",
    "        y_train, y_test = y[train_index], y[test_index]\n",
    "        cat.fit(X_train, y_train)\n",
    "        temp_train_auc.append(roc_auc_score(y_train, cat.predict_proba(X_train)[:, 1]))\n",
    "        temp_test_auc.append(roc_auc_score(y_test, cat.predict_proba(X_test)[:, 1]))\n",
    "    train_auc.append(temp_train_auc)\n",
    "    test_auc.append(temp_test_auc)\n",
    "\n",
    "# Преобразуем списки в массивы NumPy\n",
    "train_auc, test_auc = np.asarray(train_auc), np.asarray(test_auc)\n",
    "print(\"Наилучшее значение AUC перекрестной проверки равно {:.3f} и достигается при rsm {}\".format(max(test_auc.mean(axis=1)), \n",
    "                                                        rsm_grid[np.argmax(test_auc.mean(axis=1))]))"
   ]
  },
  {
   "cell_type": "code",
   "execution_count": 17,
   "metadata": {},
   "outputs": [
    {
     "data": {
      "text/plain": [
       "<matplotlib.text.Text at 0x1b02278a2b0>"
      ]
     },
     "execution_count": 17,
     "metadata": {},
     "output_type": "execute_result"
    },
    {
     "data": {
      "image/png": "[encoded data removed]",
      "text/plain": [
       "<matplotlib.figure.Figure at 0x1b0215e63c8>"
      ]
     },
     "metadata": {},
     "output_type": "display_data"
    }
   ],
   "source": [
    "fig, ax = plt.subplots(figsize=(8, 4))\n",
    "ax.plot(rsm_grid, train_auc.mean(axis=1), alpha=0.5, color='blue', label='обучение')\n",
    "ax.plot(rsm_grid, test_auc.mean(axis=1), alpha=0.5, color='red', label='перекрестная проверка')\n",
    "ax.fill_between(rsm_grid, test_auc.mean(axis=1) - test_auc.std(axis=1), test_auc.mean(axis=1) + test_auc.std(axis=1), color='#888888', alpha=0.4)\n",
    "ax.fill_between(rsm_grid, test_auc.mean(axis=1) - 2*test_auc.std(axis=1), test_auc.mean(axis=1) + 2*test_auc.std(axis=1), color='#888888', alpha=0.2)\n",
    "ax.legend(loc='best')\n",
    "ax.set_ylim([0.60,1.00])\n",
    "ax.set_ylabel(\"AUC\")\n",
    "ax.set_xlabel(\"Количество случайно отбираемых признаков на каждой итерации\")"
   ]
  },
  {
   "cell_type": "code",
   "execution_count": 18,
   "metadata": {},
   "outputs": [
    {
     "name": "stdout",
     "output_type": "stream",
     "text": [
      "Наилучшее значение AUC перекрестной проверки равно 0.814 и достигается при border_count 255\n"
     ]
    }
   ],
   "source": [
    "# Создаем списки для сохранения AUC на обучающей и контрольной выборках\n",
    "train_auc = []\n",
    "test_auc = []\n",
    "temp_train_auc = []\n",
    "temp_test_auc = []\n",
    "border_count_grid = [128, 192, 255]\n",
    "\n",
    "# Строим модели с разным количеством разбиений количественных признаков\n",
    "for border_count in border_count_grid:\n",
    "    cat = CatBoostClassifier(iterations=100, learning_rate=0.3, depth=4, rsm=0.2, \n",
    "                             border_count=border_count, random_seed=42, eval_metric='AUC')\n",
    "    temp_train_auc = []\n",
    "    temp_test_auc = []\n",
    "    for train_index, test_index in strat.split(X, y):\n",
    "        X_train, X_test = X.iloc[train_index], X.iloc[test_index]\n",
    "        y_train, y_test = y[train_index], y[test_index]\n",
    "        cat.fit(X_train, y_train)\n",
    "        temp_train_auc.append(roc_auc_score(y_train, cat.predict_proba(X_train)[:, 1]))\n",
    "        temp_test_auc.append(roc_auc_score(y_test, cat.predict_proba(X_test)[:, 1]))\n",
    "    train_auc.append(temp_train_auc)\n",
    "    test_auc.append(temp_test_auc)\n",
    "\n",
    "# Преобразуем списки в массивы NumPy\n",
    "train_auc, test_auc = np.asarray(train_auc), np.asarray(test_auc)\n",
    "print(\"Наилучшее значение AUC перекрестной проверки равно {:.3f} и достигается при border_count {}\".format(max(test_auc.mean(axis=1)), \n",
    "                                                        border_count_grid[np.argmax(test_auc.mean(axis=1))]))"
   ]
  },
  {
   "cell_type": "code",
   "execution_count": 19,
   "metadata": {},
   "outputs": [
    {
     "data": {
      "text/plain": [
       "<matplotlib.text.Text at 0x1b022856128>"
      ]
     },
     "execution_count": 19,
     "metadata": {},
     "output_type": "execute_result"
    },
    {
     "data": {
      "image/png": "[encoded data removed]",
      "text/plain": [
       "<matplotlib.figure.Figure at 0x1b0227a8400>"
      ]
     },
     "metadata": {},
     "output_type": "display_data"
    }
   ],
   "source": [
    "fig, ax = plt.subplots(figsize=(8, 4))\n",
    "ax.plot(border_count_grid, train_auc.mean(axis=1), alpha=0.5, color='blue', label='обучение')\n",
    "ax.plot(border_count_grid, test_auc.mean(axis=1), alpha=0.5, color='red', label='перекрестная проверка')\n",
    "ax.fill_between(border_count_grid, test_auc.mean(axis=1) - test_auc.std(axis=1), test_auc.mean(axis=1) + test_auc.std(axis=1), color='#888888', alpha=0.4)\n",
    "ax.fill_between(border_count_grid, test_auc.mean(axis=1) - 2*test_auc.std(axis=1), test_auc.mean(axis=1) + 2*test_auc.std(axis=1), color='#888888', alpha=0.2)\n",
    "ax.legend(loc='best')\n",
    "ax.set_ylim([0.60,1.00])\n",
    "ax.set_ylabel(\"AUC\")\n",
    "ax.set_xlabel(\"Количество разбиений количественного признака\")"
   ]
  },
  {
   "cell_type": "code",
   "execution_count": 20,
   "metadata": {},
   "outputs": [
    {
     "name": "stdout",
     "output_type": "stream",
     "text": [
      "AUC на тестовой выборке: 0.87\n",
      "Наилучшие значения параметров: {'border_count': 128, 'depth': 4, 'learning_rate': 0.08, 'rsm': 0.6}\n",
      "Наилучшее значение AUC: 0.83\n"
     ]
    }
   ],
   "source": [
    "from sklearn.model_selection import GridSearchCV\n",
    "cat = CatBoostClassifier(iterations=100, random_seed=42, eval_metric='AUC')\n",
    "param_grid = {'learning_rate': [0.02, 0.04, 0.06, 0.08, 1], 'depth':[4, 5, 6], 'rsm':[0.4, 0.6], \n",
    "              'border_count':[128, 192, 255]}\n",
    "grid_search = GridSearchCV(cat, param_grid, scoring='roc_auc', n_jobs=-1, cv=strat)\n",
    "grid_search.fit(X_train, y_train)\n",
    "test_score = roc_auc_score(y_control, grid_search.predict_proba(X_control)[:, 1])\n",
    "print(\"AUC на тестовой выборке: {:.2f}\".format(test_score))\n",
    "print(\"Наилучшие значения параметров: {}\".format(grid_search.best_params_))\n",
    "print(\"Наилучшее значение AUC: {:.2f}\".format(grid_search.best_score_))"
   ]
  }
 ],
 "metadata": {
  "kernelspec": {
   "display_name": "Python 3",
   "language": "python",
   "name": "python3"
  },
  "language_info": {
   "codemirror_mode": {
    "name": "ipython",
    "version": 3
   },
   "file_extension": ".py",
   "mimetype": "text/x-python",
   "name": "python",
   "nbconvert_exporter": "python",
   "pygments_lexer": "ipython3",
   "version": "3.6.1"
  }
 },
 "nbformat": 4,
 "nbformat_minor": 2
}
