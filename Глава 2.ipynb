{
 "cells": [
  {
   "cell_type": "code",
   "execution_count": 202,
   "metadata": {
    "collapsed": true
   },
   "outputs": [],
   "source": [
    "# считываем CSV-файл в датафрейм data\n",
    "data <- read.csv2(\"C:/Trees/Churn.csv\", sep=\";\")"
   ]
  },
  {
   "cell_type": "code",
   "execution_count": 203,
   "metadata": {},
   "outputs": [
    {
     "data": {
      "text/html": [
       "<table>\n",
       "<thead><tr><th scope=col>longdist</th><th scope=col>local</th><th scope=col>int_disc</th><th scope=col>billtype</th><th scope=col>pay</th><th scope=col>gender</th><th scope=col>marital</th><th scope=col>income</th><th scope=col>agecat</th><th scope=col>churn</th></tr></thead>\n",
       "<tbody>\n",
       "\t<tr><td>&lt;2                                           </td><td>&lt;8                                           </td><td>Нет                                             </td><td>Бюджетный                                       </td><td><span style=white-space:pre-wrap>CC  </span>    </td><td>Мужской                                         </td><td><span style=white-space:pre-wrap>Женат   </span></td><td>77680.0                                         </td><td>&lt;31                                          </td><td>1                                               </td></tr>\n",
       "\t<tr><td><span style=white-space:pre-wrap>  </span>      </td><td>&lt;8                                           </td><td>Нет                                             </td><td>Бесплатный                                      </td><td><span style=white-space:pre-wrap>CC  </span>    </td><td>Мужской                                         </td><td><span style=white-space:pre-wrap>Женат   </span></td><td>37111.5                                         </td><td>&lt;31                                          </td><td>1                                               </td></tr>\n",
       "\t<tr><td>&lt;2                                             </td><td>&lt;8                                             </td><td>Нет                                               </td><td><span style=white-space:pre-wrap>          </span></td><td><span style=white-space:pre-wrap>CC  </span>      </td><td>Мужской                                           </td><td><span style=white-space:pre-wrap>Женат   </span>  </td><td><span style=white-space:pre-wrap>     NA</span>   </td><td><span style=white-space:pre-wrap>   </span>       </td><td>1                                                 </td></tr>\n",
       "\t<tr><td>&lt;2                                          </td><td>&lt;8                                          </td><td><span style=white-space:pre-wrap>   </span>    </td><td>Бесплатный                                     </td><td><span style=white-space:pre-wrap>CH  </span>   </td><td>Мужской                                        </td><td>Одинокий                                       </td><td><span style=white-space:pre-wrap>     NA</span></td><td>&lt;31                                         </td><td>0                                              </td></tr>\n",
       "\t<tr><td>&lt;2                                          </td><td><span style=white-space:pre-wrap>  </span>     </td><td>Нет                                            </td><td>Бесплатный                                     </td><td>Auto                                           </td><td><span style=white-space:pre-wrap>       </span></td><td>Одинокий                                       </td><td>16829.6                                        </td><td>&lt;31                                         </td><td>1                                              </td></tr>\n",
       "\t<tr><td><span style=white-space:pre-wrap>  </span>  </td><td>&lt;8                                       </td><td>Нет                                         </td><td>Бесплатный                                  </td><td><span style=white-space:pre-wrap>    </span></td><td>Женский                                     </td><td>Одинокий                                    </td><td>57272.7                                     </td><td>&lt;31                                      </td><td>1                                           </td></tr>\n",
       "\t<tr><td><span style=white-space:pre-wrap>  </span>      </td><td>&lt;8                                           </td><td>Нет                                             </td><td>Бюджетный                                       </td><td><span style=white-space:pre-wrap>    </span>    </td><td>Мужской                                         </td><td><span style=white-space:pre-wrap>Женат   </span></td><td><span style=white-space:pre-wrap>     NA</span> </td><td>&lt;31                                          </td><td>1                                               </td></tr>\n",
       "\t<tr><td>&lt;2                                           </td><td>&lt;8                                           </td><td>Нет                                             </td><td>Бесплатный                                      </td><td>Auto                                            </td><td>Мужской                                         </td><td><span style=white-space:pre-wrap>        </span></td><td><span style=white-space:pre-wrap>     NA</span> </td><td>&lt;31                                          </td><td>1                                               </td></tr>\n",
       "\t<tr><td>&lt;2                                             </td><td>&lt;8                                             </td><td>Да                                                </td><td><span style=white-space:pre-wrap>          </span></td><td><span style=white-space:pre-wrap>CH  </span>      </td><td>Мужской                                           </td><td>Одинокий                                          </td><td>92167.3                                           </td><td>&lt;31                                            </td><td>1                                                 </td></tr>\n",
       "\t<tr><td>&lt;2                                           </td><td>&lt;8                                           </td><td>Нет                                             </td><td>Бесплатный                                      </td><td><span style=white-space:pre-wrap>CC  </span>    </td><td>Мужской                                         </td><td><span style=white-space:pre-wrap>Женат   </span></td><td>37135.5                                         </td><td>&lt;31                                          </td><td>1                                               </td></tr>\n",
       "</tbody>\n",
       "</table>\n"
      ],
      "text/latex": [
       "\\begin{tabular}{r|llllllllll}\n",
       " longdist & local & int\\_disc & billtype & pay & gender & marital & income & agecat & churn\\\\\n",
       "\\hline\n",
       "\t <2         & <8         & Нет        & Бюджетный  & CC         & Мужской    & Женат      & 77680.0    & <31        & 1         \\\\\n",
       "\t            & <8         & Нет        & Бесплатный & CC         & Мужской    & Женат      & 37111.5    & <31        & 1         \\\\\n",
       "\t <2         & <8         & Нет        &            & CC         & Мужской    & Женат      &      NA    &            & 1         \\\\\n",
       "\t <2         & <8         &            & Бесплатный & CH         & Мужской    & Одинокий   &      NA    & <31        & 0         \\\\\n",
       "\t <2         &            & Нет        & Бесплатный & Auto       &            & Одинокий   & 16829.6    & <31        & 1         \\\\\n",
       "\t            & <8         & Нет        & Бесплатный &            & Женский    & Одинокий   & 57272.7    & <31        & 1         \\\\\n",
       "\t            & <8         & Нет        & Бюджетный  &            & Мужской    & Женат      &      NA    & <31        & 1         \\\\\n",
       "\t <2         & <8         & Нет        & Бесплатный & Auto       & Мужской    &            &      NA    & <31        & 1         \\\\\n",
       "\t <2         & <8         & Да         &            & CH         & Мужской    & Одинокий   & 92167.3    & <31        & 1         \\\\\n",
       "\t <2         & <8         & Нет        & Бесплатный & CC         & Мужской    & Женат      & 37135.5    & <31        & 1         \\\\\n",
       "\\end{tabular}\n"
      ],
      "text/markdown": [
       "\n",
       "longdist | local | int_disc | billtype | pay | gender | marital | income | agecat | churn | \n",
       "|---|---|---|---|---|---|---|---|---|---|\n",
       "| <2         | <8         | Нет        | Бюджетный  | CC         | Мужской    | Женат      | 77680.0    | <31        | 1          | \n",
       "|            | <8         | Нет        | Бесплатный | CC         | Мужской    | Женат      | 37111.5    | <31        | 1          | \n",
       "| <2         | <8         | Нет        |            | CC         | Мужской    | Женат      |      NA    |            | 1          | \n",
       "| <2         | <8         |            | Бесплатный | CH         | Мужской    | Одинокий   |      NA    | <31        | 0          | \n",
       "| <2         |            | Нет        | Бесплатный | Auto       |            | Одинокий   | 16829.6    | <31        | 1          | \n",
       "|            | <8         | Нет        | Бесплатный |            | Женский    | Одинокий   | 57272.7    | <31        | 1          | \n",
       "|            | <8         | Нет        | Бюджетный  |            | Мужской    | Женат      |      NA    | <31        | 1          | \n",
       "| <2         | <8         | Нет        | Бесплатный | Auto       | Мужской    |            |      NA    | <31        | 1          | \n",
       "| <2         | <8         | Да         |            | CH         | Мужской    | Одинокий   | 92167.3    | <31        | 1          | \n",
       "| <2         | <8         | Нет        | Бесплатный | CC         | Мужской    | Женат      | 37135.5    | <31        | 1          | \n",
       "\n",
       "\n"
      ],
      "text/plain": [
       "   longdist local int_disc billtype   pay  gender  marital  income  agecat\n",
       "1  <2       <8    Нет      Бюджетный  CC   Мужской Женат    77680.0 <31   \n",
       "2           <8    Нет      Бесплатный CC   Мужской Женат    37111.5 <31   \n",
       "3  <2       <8    Нет                 CC   Мужской Женат         NA       \n",
       "4  <2       <8             Бесплатный CH   Мужской Одинокий      NA <31   \n",
       "5  <2             Нет      Бесплатный Auto         Одинокий 16829.6 <31   \n",
       "6           <8    Нет      Бесплатный      Женский Одинокий 57272.7 <31   \n",
       "7           <8    Нет      Бюджетный       Мужской Женат         NA <31   \n",
       "8  <2       <8    Нет      Бесплатный Auto Мужской               NA <31   \n",
       "9  <2       <8    Да                  CH   Мужской Одинокий 92167.3 <31   \n",
       "10 <2       <8    Нет      Бесплатный CC   Мужской Женат    37135.5 <31   \n",
       "   churn\n",
       "1  1    \n",
       "2  1    \n",
       "3  1    \n",
       "4  0    \n",
       "5  1    \n",
       "6  1    \n",
       "7  1    \n",
       "8  1    \n",
       "9  1    \n",
       "10 1    "
      ]
     },
     "metadata": {},
     "output_type": "display_data"
    }
   ],
   "source": [
    "# смотрим первые 10 наблюдений \n",
    "# датафрейма data\n",
    "head(data, 10)"
   ]
  },
  {
   "cell_type": "code",
   "execution_count": 204,
   "metadata": {},
   "outputs": [
    {
     "data": {
      "text/html": [
       "4"
      ],
      "text/latex": [
       "4"
      ],
      "text/markdown": [
       "4"
      ],
      "text/plain": [
       "[1] 4"
      ]
     },
     "metadata": {},
     "output_type": "display_data"
    }
   ],
   "source": [
    "# выводим количество пропусков\n",
    "# по переменной income \n",
    "sum(is.na(data$income))"
   ]
  },
  {
   "cell_type": "code",
   "execution_count": 205,
   "metadata": {},
   "outputs": [
    {
     "data": {
      "text/html": [
       "0"
      ],
      "text/latex": [
       "0"
      ],
      "text/markdown": [
       "0"
      ],
      "text/plain": [
       "[1] 0"
      ]
     },
     "metadata": {},
     "output_type": "display_data"
    }
   ],
   "source": [
    "# выводим количество пропусков\n",
    "# по переменной pay \n",
    "sum(is.na(data$pay))"
   ]
  },
  {
   "cell_type": "code",
   "execution_count": 206,
   "metadata": {
    "collapsed": true
   },
   "outputs": [],
   "source": [
    "# помечаем пустые строковые\n",
    "# значения как пропуски \n",
    "is.na(data) <- data==''"
   ]
  },
  {
   "cell_type": "code",
   "execution_count": 207,
   "metadata": {},
   "outputs": [
    {
     "data": {
      "text/html": [
       "<table>\n",
       "<thead><tr><th scope=col>longdist</th><th scope=col>local</th><th scope=col>int_disc</th><th scope=col>billtype</th><th scope=col>pay</th><th scope=col>gender</th><th scope=col>marital</th><th scope=col>income</th><th scope=col>agecat</th><th scope=col>churn</th></tr></thead>\n",
       "<tbody>\n",
       "\t<tr><td>&lt;2                                           </td><td>&lt;8                                           </td><td>Нет                                             </td><td>Бюджетный                                       </td><td><span style=white-space:pre-wrap>CC  </span>    </td><td>Мужской                                         </td><td><span style=white-space:pre-wrap>Женат   </span></td><td>77680.0                                         </td><td>&lt;31                                          </td><td>1                                               </td></tr>\n",
       "\t<tr><td>NA                                              </td><td>&lt;8                                           </td><td>Нет                                             </td><td>Бесплатный                                      </td><td><span style=white-space:pre-wrap>CC  </span>    </td><td>Мужской                                         </td><td><span style=white-space:pre-wrap>Женат   </span></td><td>37111.5                                         </td><td>&lt;31                                          </td><td>1                                               </td></tr>\n",
       "\t<tr><td>&lt;2                                             </td><td>&lt;8                                             </td><td>Нет                                               </td><td><span style=white-space:pre-wrap>NA        </span></td><td><span style=white-space:pre-wrap>CC  </span>      </td><td>Мужской                                           </td><td><span style=white-space:pre-wrap>Женат   </span>  </td><td><span style=white-space:pre-wrap>     NA</span>   </td><td>NA                                                </td><td>1                                                 </td></tr>\n",
       "\t<tr><td>&lt;2                                          </td><td>&lt;8                                          </td><td>NA                                             </td><td>Бесплатный                                     </td><td><span style=white-space:pre-wrap>CH  </span>   </td><td>Мужской                                        </td><td>Одинокий                                       </td><td><span style=white-space:pre-wrap>     NA</span></td><td>&lt;31                                         </td><td>0                                              </td></tr>\n",
       "\t<tr><td>&lt;2                                          </td><td>NA                                             </td><td>Нет                                            </td><td>Бесплатный                                     </td><td>Auto                                           </td><td><span style=white-space:pre-wrap>NA     </span></td><td>Одинокий                                       </td><td>16829.6                                        </td><td>&lt;31                                         </td><td>1                                              </td></tr>\n",
       "\t<tr><td>NA                                          </td><td>&lt;8                                       </td><td>Нет                                         </td><td>Бесплатный                                  </td><td><span style=white-space:pre-wrap>NA  </span></td><td>Женский                                     </td><td>Одинокий                                    </td><td>57272.7                                     </td><td>&lt;31                                      </td><td>1                                           </td></tr>\n",
       "\t<tr><td>NA                                              </td><td>&lt;8                                           </td><td>Нет                                             </td><td>Бюджетный                                       </td><td><span style=white-space:pre-wrap>NA  </span>    </td><td>Мужской                                         </td><td><span style=white-space:pre-wrap>Женат   </span></td><td><span style=white-space:pre-wrap>     NA</span> </td><td>&lt;31                                          </td><td>1                                               </td></tr>\n",
       "\t<tr><td>&lt;2                                           </td><td>&lt;8                                           </td><td>Нет                                             </td><td>Бесплатный                                      </td><td>Auto                                            </td><td>Мужской                                         </td><td><span style=white-space:pre-wrap>NA      </span></td><td><span style=white-space:pre-wrap>     NA</span> </td><td>&lt;31                                          </td><td>1                                               </td></tr>\n",
       "\t<tr><td>&lt;2                                             </td><td>&lt;8                                             </td><td>Да                                                </td><td><span style=white-space:pre-wrap>NA        </span></td><td><span style=white-space:pre-wrap>CH  </span>      </td><td>Мужской                                           </td><td>Одинокий                                          </td><td>92167.3                                           </td><td>&lt;31                                            </td><td>1                                                 </td></tr>\n",
       "\t<tr><td>&lt;2                                           </td><td>&lt;8                                           </td><td>Нет                                             </td><td>Бесплатный                                      </td><td><span style=white-space:pre-wrap>CC  </span>    </td><td>Мужской                                         </td><td><span style=white-space:pre-wrap>Женат   </span></td><td>37135.5                                         </td><td>&lt;31                                          </td><td>1                                               </td></tr>\n",
       "</tbody>\n",
       "</table>\n"
      ],
      "text/latex": [
       "\\begin{tabular}{r|llllllllll}\n",
       " longdist & local & int\\_disc & billtype & pay & gender & marital & income & agecat & churn\\\\\n",
       "\\hline\n",
       "\t <2         & <8         & Нет        & Бюджетный  & CC         & Мужской    & Женат      & 77680.0    & <31        & 1         \\\\\n",
       "\t NA         & <8         & Нет        & Бесплатный & CC         & Мужской    & Женат      & 37111.5    & <31        & 1         \\\\\n",
       "\t <2         & <8         & Нет        & NA         & CC         & Мужской    & Женат      &      NA    & NA         & 1         \\\\\n",
       "\t <2         & <8         & NA         & Бесплатный & CH         & Мужской    & Одинокий   &      NA    & <31        & 0         \\\\\n",
       "\t <2         & NA         & Нет        & Бесплатный & Auto       & NA         & Одинокий   & 16829.6    & <31        & 1         \\\\\n",
       "\t NA         & <8         & Нет        & Бесплатный & NA         & Женский    & Одинокий   & 57272.7    & <31        & 1         \\\\\n",
       "\t NA         & <8         & Нет        & Бюджетный  & NA         & Мужской    & Женат      &      NA    & <31        & 1         \\\\\n",
       "\t <2         & <8         & Нет        & Бесплатный & Auto       & Мужской    & NA         &      NA    & <31        & 1         \\\\\n",
       "\t <2         & <8         & Да         & NA         & CH         & Мужской    & Одинокий   & 92167.3    & <31        & 1         \\\\\n",
       "\t <2         & <8         & Нет        & Бесплатный & CC         & Мужской    & Женат      & 37135.5    & <31        & 1         \\\\\n",
       "\\end{tabular}\n"
      ],
      "text/markdown": [
       "\n",
       "longdist | local | int_disc | billtype | pay | gender | marital | income | agecat | churn | \n",
       "|---|---|---|---|---|---|---|---|---|---|\n",
       "| <2         | <8         | Нет        | Бюджетный  | CC         | Мужской    | Женат      | 77680.0    | <31        | 1          | \n",
       "| NA         | <8         | Нет        | Бесплатный | CC         | Мужской    | Женат      | 37111.5    | <31        | 1          | \n",
       "| <2         | <8         | Нет        | NA         | CC         | Мужской    | Женат      |      NA    | NA         | 1          | \n",
       "| <2         | <8         | NA         | Бесплатный | CH         | Мужской    | Одинокий   |      NA    | <31        | 0          | \n",
       "| <2         | NA         | Нет        | Бесплатный | Auto       | NA         | Одинокий   | 16829.6    | <31        | 1          | \n",
       "| NA         | <8         | Нет        | Бесплатный | NA         | Женский    | Одинокий   | 57272.7    | <31        | 1          | \n",
       "| NA         | <8         | Нет        | Бюджетный  | NA         | Мужской    | Женат      |      NA    | <31        | 1          | \n",
       "| <2         | <8         | Нет        | Бесплатный | Auto       | Мужской    | NA         |      NA    | <31        | 1          | \n",
       "| <2         | <8         | Да         | NA         | CH         | Мужской    | Одинокий   | 92167.3    | <31        | 1          | \n",
       "| <2         | <8         | Нет        | Бесплатный | CC         | Мужской    | Женат      | 37135.5    | <31        | 1          | \n",
       "\n",
       "\n"
      ],
      "text/plain": [
       "   longdist local int_disc billtype   pay  gender  marital  income  agecat\n",
       "1  <2       <8    Нет      Бюджетный  CC   Мужской Женат    77680.0 <31   \n",
       "2  NA       <8    Нет      Бесплатный CC   Мужской Женат    37111.5 <31   \n",
       "3  <2       <8    Нет      NA         CC   Мужской Женат         NA NA    \n",
       "4  <2       <8    NA       Бесплатный CH   Мужской Одинокий      NA <31   \n",
       "5  <2       NA    Нет      Бесплатный Auto NA      Одинокий 16829.6 <31   \n",
       "6  NA       <8    Нет      Бесплатный NA   Женский Одинокий 57272.7 <31   \n",
       "7  NA       <8    Нет      Бюджетный  NA   Мужской Женат         NA <31   \n",
       "8  <2       <8    Нет      Бесплатный Auto Мужской NA            NA <31   \n",
       "9  <2       <8    Да       NA         CH   Мужской Одинокий 92167.3 <31   \n",
       "10 <2       <8    Нет      Бесплатный CC   Мужской Женат    37135.5 <31   \n",
       "   churn\n",
       "1  1    \n",
       "2  1    \n",
       "3  1    \n",
       "4  0    \n",
       "5  1    \n",
       "6  1    \n",
       "7  1    \n",
       "8  1    \n",
       "9  1    \n",
       "10 1    "
      ]
     },
     "metadata": {},
     "output_type": "display_data"
    }
   ],
   "source": [
    "# выводим первые 10 наблюдений\n",
    "# датафрейма data \n",
    "head(data, 10)"
   ]
  },
  {
   "cell_type": "code",
   "execution_count": 208,
   "metadata": {},
   "outputs": [
    {
     "data": {
      "text/html": [
       "2"
      ],
      "text/latex": [
       "2"
      ],
      "text/markdown": [
       "2"
      ],
      "text/plain": [
       "[1] 2"
      ]
     },
     "metadata": {},
     "output_type": "display_data"
    }
   ],
   "source": [
    "# выводим количество пропусков\n",
    "# по переменной pay \n",
    "sum(is.na(data$pay))"
   ]
  },
  {
   "cell_type": "code",
   "execution_count": 209,
   "metadata": {
    "collapsed": true
   },
   "outputs": [],
   "source": [
    "# фиксируем пустые строковые\n",
    "# значения как пропуски \n",
    "data <- read.csv2(\"C:/Trees/Churn.csv\", sep=\";\", na.strings=\"\")"
   ]
  },
  {
   "cell_type": "code",
   "execution_count": 210,
   "metadata": {},
   "outputs": [
    {
     "name": "stdout",
     "output_type": "stream",
     "text": [
      "'data.frame':\t4431 obs. of  10 variables:\n",
      " $ longdist: Factor w/ 5 levels \"<2\",\"15-20\",\"2-8\",..: 1 NA 1 1 1 NA NA 1 1 1 ...\n",
      " $ local   : Factor w/ 5 levels \"<8\",\"21-35\",\"36-55\",..: 1 1 1 1 NA 1 1 1 1 1 ...\n",
      " $ int_disc: Factor w/ 2 levels \"Да\",\"Нет\": 2 2 2 NA 2 2 2 2 1 2 ...\n",
      " $ billtype: Factor w/ 2 levels \"Бесплатный\",\"Бюджетный\": 2 1 NA 1 1 1 2 1 NA 1 ...\n",
      " $ pay     : Factor w/ 4 levels \"Auto\",\"CC\",\"CD\",..: 2 2 2 4 1 NA NA 1 4 2 ...\n",
      " $ gender  : Factor w/ 4 levels \"Женский\",\"Женский&*\",..: 3 3 3 3 NA 1 3 3 3 3 ...\n",
      " $ marital : Factor w/ 5 levels \"_Женат\",\"_Одинокий\",..: 4 4 4 5 5 5 4 NA 5 4 ...\n",
      " $ income  : num  77680 37112 NA NA 16830 ...\n",
      " $ agecat  : Factor w/ 5 levels \"<31\",\"31-45\",..: 1 1 NA 1 1 1 1 1 1 1 ...\n",
      " $ churn   : int  1 1 1 0 1 1 1 1 1 1 ...\n"
     ]
    }
   ],
   "source": [
    "# смотрим типы переменных\n",
    "str(data)"
   ]
  },
  {
   "cell_type": "code",
   "execution_count": 211,
   "metadata": {
    "collapsed": true
   },
   "outputs": [],
   "source": [
    "# преобразовываем переменную\n",
    "# churn в вектор типа factor \n",
    "data$churn <- as.factor(data$churn)"
   ]
  },
  {
   "cell_type": "code",
   "execution_count": 212,
   "metadata": {
    "collapsed": true
   },
   "outputs": [],
   "source": [
    "# преобразовываем переменные longdist, local,\n",
    "# agecat в вектор типа ordered factor \n",
    "data$longdist <- ordered(data$longdist, \n",
    "                         levels = c(\"<2\", \"2-8\", \"9-14\", \"15-20\", \"21+\"))\n",
    "data$local <- ordered(data$local, \n",
    "                      levels = c(\"<8\", \"8-20\", \"21-35\", \"36-55\", \"56+\"))\n",
    "data$agecat <- ordered(data$agecat, \n",
    "                       levels = c(\"<31\", \"31-45\", \"46-58\", \"59-70\", \"71+\"))\n"
   ]
  },
  {
   "cell_type": "code",
   "execution_count": 213,
   "metadata": {},
   "outputs": [
    {
     "name": "stderr",
     "output_type": "stream",
     "text": [
      "\n",
      "Attaching package: 'dplyr'\n",
      "\n",
      "The following object is masked from 'package:imputeMissings':\n",
      "\n",
      "    compute\n",
      "\n",
      "The following object is masked from 'package:car':\n",
      "\n",
      "    recode\n",
      "\n",
      "The following objects are masked from 'package:stats':\n",
      "\n",
      "    filter, lag\n",
      "\n",
      "The following objects are masked from 'package:base':\n",
      "\n",
      "    intersect, setdiff, setequal, union\n",
      "\n"
     ]
    }
   ],
   "source": [
    "# загружаем пакет dplyr \n",
    "library(dplyr)\n",
    "# c помощью функции recode пакета dplyr\n",
    "# переименовываем категории переменной marital_status\n",
    "data$churn <- recode(data$churn, \"0\"=\"Остается\", \"1\"=\"Уходит\")"
   ]
  },
  {
   "cell_type": "code",
   "execution_count": 214,
   "metadata": {
    "collapsed": true
   },
   "outputs": [],
   "source": [
    "# отсоединяем пакет dplyr \n",
    "detach(\"package:dplyr\", unload=TRUE)"
   ]
  },
  {
   "cell_type": "code",
   "execution_count": 215,
   "metadata": {},
   "outputs": [
    {
     "name": "stdout",
     "output_type": "stream",
     "text": [
      "'data.frame':\t4431 obs. of  10 variables:\n",
      " $ longdist: Ord.factor w/ 5 levels \"<2\"<\"2-8\"<\"9-14\"<..: 1 NA 1 1 1 NA NA 1 1 1 ...\n",
      " $ local   : Ord.factor w/ 5 levels \"<8\"<\"8-20\"<\"21-35\"<..: 1 1 1 1 NA 1 1 1 1 1 ...\n",
      " $ int_disc: Factor w/ 2 levels \"Да\",\"Нет\": 2 2 2 NA 2 2 2 2 1 2 ...\n",
      " $ billtype: Factor w/ 2 levels \"Бесплатный\",\"Бюджетный\": 2 1 NA 1 1 1 2 1 NA 1 ...\n",
      " $ pay     : Factor w/ 4 levels \"Auto\",\"CC\",\"CD\",..: 2 2 2 4 1 NA NA 1 4 2 ...\n",
      " $ gender  : Factor w/ 4 levels \"Женский\",\"Женский&*\",..: 3 3 3 3 NA 1 3 3 3 3 ...\n",
      " $ marital : Factor w/ 5 levels \"_Женат\",\"_Одинокий\",..: 4 4 4 5 5 5 4 NA 5 4 ...\n",
      " $ income  : num  77680 37112 NA NA 16830 ...\n",
      " $ agecat  : Ord.factor w/ 5 levels \"<31\"<\"31-45\"<..: 1 1 NA 1 1 1 1 1 1 1 ...\n",
      " $ churn   : Factor w/ 2 levels \"Остается\",\"Уходит\": 2 2 2 1 2 2 2 2 2 2 ...\n"
     ]
    }
   ],
   "source": [
    "# смотрим типы переменных \n",
    "str(data)"
   ]
  },
  {
   "cell_type": "code",
   "execution_count": 216,
   "metadata": {},
   "outputs": [
    {
     "data": {
      "text/html": [
       "<table>\n",
       "<thead><tr><th></th><th scope=col>longdist</th><th scope=col>local</th><th scope=col>int_disc</th><th scope=col>billtype</th><th scope=col>pay</th><th scope=col>gender</th><th scope=col>marital</th><th scope=col>income</th><th scope=col>agecat</th><th scope=col>churn</th></tr></thead>\n",
       "<tbody>\n",
       "\t<tr><th scope=row>358</th><td><span style=white-space:pre-wrap>&lt;2   </span> </td><td><span style=white-space:pre-wrap>&lt;8   </span> </td><td>Нет                                              </td><td>Бюджетный                                        </td><td><span style=white-space:pre-wrap>CC  </span>     </td><td>Женский&amp;*                                    </td><td><span style=white-space:pre-wrap>_Женат   </span></td><td>32118.4                                          </td><td><span style=white-space:pre-wrap>71+  </span>    </td><td><span style=white-space:pre-wrap>Уходит  </span> </td></tr>\n",
       "\t<tr><th scope=row>461</th><td><span style=white-space:pre-wrap>&lt;2   </span></td><td><span style=white-space:pre-wrap>&lt;8   </span></td><td>Да                                              </td><td>Бесплатный                                      </td><td><span style=white-space:pre-wrap>CC  </span>    </td><td>Женский&amp;*                                   </td><td>_Одинокий                                       </td><td>18831.1                                         </td><td>46-58                                           </td><td><span style=white-space:pre-wrap>Уходит  </span></td></tr>\n",
       "\t<tr><th scope=row>2060</th><td><span style=white-space:pre-wrap>21+  </span>    </td><td>21-35                                            </td><td>Нет                                              </td><td>Бюджетный                                        </td><td><span style=white-space:pre-wrap>CC  </span>     </td><td>Мужской&amp;*                                    </td><td><span style=white-space:pre-wrap>_Женат   </span></td><td>84269.0                                          </td><td>31-45                                            </td><td>Остается                                         </td></tr>\n",
       "\t<tr><th scope=row>3161</th><td>9-14                                         </td><td><span style=white-space:pre-wrap>56+  </span></td><td>Нет                                          </td><td>Бюджетный                                    </td><td><span style=white-space:pre-wrap>CC  </span> </td><td>Мужской&amp;*                                </td><td>_Одинокий                                    </td><td>54643.3                                      </td><td>31-45                                        </td><td>Остается                                     </td></tr>\n",
       "\t<tr><th scope=row>3834</th><td><span style=white-space:pre-wrap>2-8  </span>        </td><td>21-35                                                </td><td>Нет                                                  </td><td>Бесплатный                                           </td><td>Auto                                                 </td><td><span style=white-space:pre-wrap>Женский  </span>    </td><td><span style=white-space:pre-wrap>Же&amp;нат   </span></td><td>92353.3                                              </td><td>46-58                                                </td><td>Остается                                             </td></tr>\n",
       "\t<tr><th scope=row>4382</th><td>15-20                                            </td><td>21-35                                            </td><td>Нет                                              </td><td>Бесплатный                                       </td><td><span style=white-space:pre-wrap>CC  </span>     </td><td>Женский&amp;*                                    </td><td><span style=white-space:pre-wrap>_Женат   </span></td><td>87404.6                                          </td><td>46-58                                            </td><td><span style=white-space:pre-wrap>Уходит  </span> </td></tr>\n",
       "\t<tr><th scope=row>4431</th><td><span style=white-space:pre-wrap>21+  </span></td><td>8-20                                         </td><td>Нет                                          </td><td>Бесплатный                                   </td><td><span style=white-space:pre-wrap>CC  </span> </td><td>Женский&amp;*                                </td><td>_Одинокий                                    </td><td>75639.8                                      </td><td>31-45                                        </td><td>Остается                                     </td></tr>\n",
       "</tbody>\n",
       "</table>\n"
      ],
      "text/latex": [
       "\\begin{tabular}{r|llllllllll}\n",
       "  & longdist & local & int\\_disc & billtype & pay & gender & marital & income & agecat & churn\\\\\n",
       "\\hline\n",
       "\t358 & <2          & <8          & Нет         & Бюджетный   & CC          & Женский\\&* & \\_Женат    & 32118.4     & 71+         & Уходит     \\\\\n",
       "\t461 & <2          & <8          & Да          & Бесплатный  & CC          & Женский\\&* & \\_Одинокий & 18831.1     & 46-58       & Уходит     \\\\\n",
       "\t2060 & 21+         & 21-35       & Нет         & Бюджетный   & CC          & Мужской\\&* & \\_Женат    & 84269.0     & 31-45       & Остается   \\\\\n",
       "\t3161 & 9-14        & 56+         & Нет         & Бюджетный   & CC          & Мужской\\&* & \\_Одинокий & 54643.3     & 31-45       & Остается   \\\\\n",
       "\t3834 & 2-8         & 21-35       & Нет         & Бесплатный  & Auto        & Женский     & Же\\&нат    & 92353.3     & 46-58       & Остается   \\\\\n",
       "\t4382 & 15-20       & 21-35       & Нет         & Бесплатный  & CC          & Женский\\&* & \\_Женат    & 87404.6     & 46-58       & Уходит     \\\\\n",
       "\t4431 & 21+         & 8-20        & Нет         & Бесплатный  & CC          & Женский\\&* & \\_Одинокий & 75639.8     & 31-45       & Остается   \\\\\n",
       "\\end{tabular}\n"
      ],
      "text/markdown": [
       "\n",
       "| <!--/--> | longdist | local | int_disc | billtype | pay | gender | marital | income | agecat | churn | \n",
       "|---|---|---|---|---|---|---|\n",
       "| 358 | <2         | <8         | Нет        | Бюджетный  | CC         | Женский&*  | _Женат     | 32118.4    | 71+        | Уходит     | \n",
       "| 461 | <2         | <8         | Да         | Бесплатный | CC         | Женский&*  | _Одинокий  | 18831.1    | 46-58      | Уходит     | \n",
       "| 2060 | 21+        | 21-35      | Нет        | Бюджетный  | CC         | Мужской&*  | _Женат     | 84269.0    | 31-45      | Остается   | \n",
       "| 3161 | 9-14       | 56+        | Нет        | Бюджетный  | CC         | Мужской&*  | _Одинокий  | 54643.3    | 31-45      | Остается   | \n",
       "| 3834 | 2-8        | 21-35      | Нет        | Бесплатный | Auto       | Женский    | Же&нат     | 92353.3    | 46-58      | Остается   | \n",
       "| 4382 | 15-20      | 21-35      | Нет        | Бесплатный | CC         | Женский&*  | _Женат     | 87404.6    | 46-58      | Уходит     | \n",
       "| 4431 | 21+        | 8-20       | Нет        | Бесплатный | CC         | Женский&*  | _Одинокий  | 75639.8    | 31-45      | Остается   | \n",
       "\n",
       "\n"
      ],
      "text/plain": [
       "     longdist local int_disc billtype   pay  gender    marital   income  agecat\n",
       "358  <2       <8    Нет      Бюджетный  CC   Женский&* _Женат    32118.4 71+   \n",
       "461  <2       <8    Да       Бесплатный CC   Женский&* _Одинокий 18831.1 46-58 \n",
       "2060 21+      21-35 Нет      Бюджетный  CC   Мужской&* _Женат    84269.0 31-45 \n",
       "3161 9-14     56+   Нет      Бюджетный  CC   Мужской&* _Одинокий 54643.3 31-45 \n",
       "3834 2-8      21-35 Нет      Бесплатный Auto Женский   Же&нат    92353.3 46-58 \n",
       "4382 15-20    21-35 Нет      Бесплатный CC   Женский&* _Женат    87404.6 46-58 \n",
       "4431 21+      8-20  Нет      Бесплатный CC   Женский&* _Одинокий 75639.8 31-45 \n",
       "     churn   \n",
       "358  Уходит  \n",
       "461  Уходит  \n",
       "2060 Остается\n",
       "3161 Остается\n",
       "3834 Остается\n",
       "4382 Уходит  \n",
       "4431 Остается"
      ]
     },
     "metadata": {},
     "output_type": "display_data"
    }
   ],
   "source": [
    "# смотрим дублирующиеся наблюдения \n",
    "data[duplicated(data),]"
   ]
  },
  {
   "cell_type": "code",
   "execution_count": 217,
   "metadata": {},
   "outputs": [
    {
     "data": {
      "text/html": [
       "<table>\n",
       "<thead><tr><th></th><th scope=col>longdist</th><th scope=col>local</th><th scope=col>int_disc</th><th scope=col>billtype</th><th scope=col>pay</th><th scope=col>gender</th><th scope=col>marital</th><th scope=col>income</th><th scope=col>agecat</th><th scope=col>churn</th></tr></thead>\n",
       "<tbody>\n",
       "\t<tr><th scope=row>348</th><td>&lt;2        </td><td>&lt;8        </td><td>Нет          </td><td>Бюджетный    </td><td>CC           </td><td>Женский&amp;*</td><td>_Женат       </td><td>32118.4      </td><td>71+          </td><td>Уходит       </td></tr>\n",
       "\t<tr><th scope=row>358</th><td>&lt;2        </td><td>&lt;8        </td><td>Нет          </td><td>Бюджетный    </td><td>CC           </td><td>Женский&amp;*</td><td>_Женат       </td><td>32118.4      </td><td>71+          </td><td>Уходит       </td></tr>\n",
       "</tbody>\n",
       "</table>\n"
      ],
      "text/latex": [
       "\\begin{tabular}{r|llllllllll}\n",
       "  & longdist & local & int\\_disc & billtype & pay & gender & marital & income & agecat & churn\\\\\n",
       "\\hline\n",
       "\t348 & <2          & <8          & Нет         & Бюджетный   & CC          & Женский\\&* & \\_Женат    & 32118.4     & 71+         & Уходит     \\\\\n",
       "\t358 & <2          & <8          & Нет         & Бюджетный   & CC          & Женский\\&* & \\_Женат    & 32118.4     & 71+         & Уходит     \\\\\n",
       "\\end{tabular}\n"
      ],
      "text/markdown": [
       "\n",
       "| <!--/--> | longdist | local | int_disc | billtype | pay | gender | marital | income | agecat | churn | \n",
       "|---|---|\n",
       "| 348 | <2        | <8        | Нет       | Бюджетный | CC        | Женский&* | _Женат    | 32118.4   | 71+       | Уходит    | \n",
       "| 358 | <2        | <8        | Нет       | Бюджетный | CC        | Женский&* | _Женат    | 32118.4   | 71+       | Уходит    | \n",
       "\n",
       "\n"
      ],
      "text/plain": [
       "    longdist local int_disc billtype  pay gender    marital income  agecat\n",
       "348 <2       <8    Нет      Бюджетный CC  Женский&* _Женат  32118.4 71+   \n",
       "358 <2       <8    Нет      Бюджетный CC  Женский&* _Женат  32118.4 71+   \n",
       "    churn \n",
       "348 Уходит\n",
       "358 Уходит"
      ]
     },
     "metadata": {},
     "output_type": "display_data"
    }
   ],
   "source": [
    "# проверим, дублируется ли наблюдение \n",
    "# по заданному набору условий  \n",
    "data[data$longdist == \"<2\" & data$local == \"<8\" & data$int_disc ==\"Нет\" & \n",
    "       data$billtype ==\"Бюджетный\" & data$pay ==\"CC\" &  data$gender ==\"Женский&*\" & \n",
    "       data$marital ==\"_Женат\" & data$income == 32118.4 & data$agecat ==\"71+\" & \n",
    "       data$churn ==\"Уходит\", ]"
   ]
  },
  {
   "cell_type": "code",
   "execution_count": 218,
   "metadata": {},
   "outputs": [
    {
     "data": {
      "text/html": [
       "4424"
      ],
      "text/latex": [
       "4424"
      ],
      "text/markdown": [
       "4424"
      ],
      "text/plain": [
       "[1] 4424"
      ]
     },
     "metadata": {},
     "output_type": "display_data"
    }
   ],
   "source": [
    "# оставим только уникальные наблюдения  \n",
    "data <- unique(data)\n",
    "# смотрим, сколько наблюдений мы\n",
    "# теперь будем использовать  \n",
    "nrow(data)"
   ]
  },
  {
   "cell_type": "code",
   "execution_count": 219,
   "metadata": {},
   "outputs": [
    {
     "name": "stderr",
     "output_type": "stream",
     "text": [
      "\n",
      "Attaching package: 'Hmisc'\n",
      "\n",
      "The following object is masked from 'package:imputeMissings':\n",
      "\n",
      "    impute\n",
      "\n",
      "The following objects are masked from 'package:base':\n",
      "\n",
      "    format.pval, round.POSIXt, trunc.POSIXt, units\n",
      "\n"
     ]
    },
    {
     "data": {
      "text/plain": [
       "data \n",
       "\n",
       " 10  Variables      4424  Observations\n",
       "--------------------------------------------------------------------------------\n",
       "longdist \n",
       "       n  missing distinct \n",
       "    4421        3        5 \n",
       "                                        \n",
       "Value         <2   2-8  9-14 15-20   21+\n",
       "Frequency    736   867   993  1054   771\n",
       "Proportion 0.166 0.196 0.225 0.238 0.174\n",
       "--------------------------------------------------------------------------------\n",
       "local \n",
       "       n  missing distinct \n",
       "    4423        1        5 \n",
       "                                        \n",
       "Value         <8  8-20 21-35 36-55   56+\n",
       "Frequency    738   763  1444   738   740\n",
       "Proportion 0.167 0.173 0.326 0.167 0.167\n",
       "--------------------------------------------------------------------------------\n",
       "int_disc \n",
       "       n  missing distinct \n",
       "    4423        1        2 \n",
       "                      \n",
       "Value         Да   Нет\n",
       "Frequency   1376  3047\n",
       "Proportion 0.311 0.689\n",
       "--------------------------------------------------------------------------------\n",
       "billtype \n",
       "       n  missing distinct \n",
       "    4422        2        2 \n",
       "                                \n",
       "Value      Бесплатный  Бюджетный\n",
       "Frequency        2181       2241\n",
       "Proportion      0.493      0.507\n",
       "--------------------------------------------------------------------------------\n",
       "pay \n",
       "       n  missing distinct \n",
       "    4422        2        4 \n",
       "                                  \n",
       "Value       Auto    CC    CD    CH\n",
       "Frequency    889  2554     2   977\n",
       "Proportion 0.201 0.578 0.000 0.221\n",
       "--------------------------------------------------------------------------------\n",
       "gender \n",
       "       n  missing distinct \n",
       "    4423        1        4 \n",
       "                                                  \n",
       "Value        Женский Женский&*   Мужской Мужской&*\n",
       "Frequency       2235         4      2182         2\n",
       "Proportion     0.505     0.001     0.493     0.000\n",
       "--------------------------------------------------------------------------------\n",
       "marital \n",
       "       n  missing distinct \n",
       "    4423        1        5 \n",
       "                                                            \n",
       "Value         _Женат _Одинокий    Же&нат     Женат  Одинокий\n",
       "Frequency          3         3         1      2620      1796\n",
       "Proportion     0.001     0.001     0.000     0.592     0.406\n",
       "--------------------------------------------------------------------------------\n",
       "income \n",
       "       n  missing distinct     Info     Mean      Gmd      .05      .10 \n",
       "    4420        4     1456        1    50297    32835     5565    11255 \n",
       "     .25      .50      .75      .90      .95 \n",
       "   25446    50291    75005    90189    94903 \n",
       "\n",
       "lowest :   110.28   127.24   295.94   349.09   540.41\n",
       "highest: 99488.10 99514.60 99563.10 99619.90 99832.90\n",
       "--------------------------------------------------------------------------------\n",
       "agecat \n",
       "       n  missing distinct \n",
       "    4423        1        5 \n",
       "                                        \n",
       "Value        <31 31-45 46-58 59-70   71+\n",
       "Frequency    755  1303   908   717   740\n",
       "Proportion 0.171 0.295 0.205 0.162 0.167\n",
       "--------------------------------------------------------------------------------\n",
       "churn \n",
       "       n  missing distinct \n",
       "    4424        0        2 \n",
       "                            \n",
       "Value      Остается   Уходит\n",
       "Frequency      2492     1932\n",
       "Proportion    0.563    0.437\n",
       "--------------------------------------------------------------------------------"
      ]
     },
     "metadata": {},
     "output_type": "display_data"
    }
   ],
   "source": [
    "# загружаем пакет Hmisc  \n",
    "library(Hmisc)\n",
    "# с помощью функции describe пакета\n",
    "# Hmisc выведем подробную информацию\n",
    "# о переменных\n",
    "describe(data)"
   ]
  },
  {
   "cell_type": "code",
   "execution_count": 220,
   "metadata": {},
   "outputs": [
    {
     "data": {
      "text/html": [
       "23"
      ],
      "text/latex": [
       "23"
      ],
      "text/markdown": [
       "23"
      ],
      "text/plain": [
       "[1] 23"
      ]
     },
     "metadata": {},
     "output_type": "display_data"
    }
   ],
   "source": [
    "# создаем числовой ряд  \n",
    "series <- c(18, 20, 23, 20, 23, 27, 24, 23, 29)\n",
    "# вычисляем медиану  \n",
    "median(series)"
   ]
  },
  {
   "cell_type": "code",
   "execution_count": 221,
   "metadata": {},
   "outputs": [
    {
     "data": {
      "text/html": [
       "<strong>50%:</strong> 23"
      ],
      "text/latex": [
       "\\textbf{50\\textbackslash{}\\%:} 23"
      ],
      "text/markdown": [
       "**50%:** 23"
      ],
      "text/plain": [
       "50% \n",
       " 23 "
      ]
     },
     "metadata": {},
     "output_type": "display_data"
    }
   ],
   "source": [
    "# вычисляем медиану  \n",
    "quantile(series, 0.50)"
   ]
  },
  {
   "cell_type": "code",
   "execution_count": 222,
   "metadata": {},
   "outputs": [
    {
     "data": {
      "text/html": [
       "<strong>25%:</strong> 20"
      ],
      "text/latex": [
       "\\textbf{25\\textbackslash{}\\%:} 20"
      ],
      "text/markdown": [
       "**25%:** 20"
      ],
      "text/plain": [
       "25% \n",
       " 20 "
      ]
     },
     "metadata": {},
     "output_type": "display_data"
    }
   ],
   "source": [
    "# вычисляем 0.25-квантиль  \n",
    "quantile(series, 0.25)"
   ]
  },
  {
   "cell_type": "code",
   "execution_count": 223,
   "metadata": {},
   "outputs": [
    {
     "data": {
      "text/html": [
       "<dl>\n",
       "\t<dt>$gender</dt>\n",
       "\t\t<dd><dl class=dl-horizontal>\n",
       "\t<dt>Женский</dt>\n",
       "\t\t<dd>2235</dd>\n",
       "\t<dt>Женский&amp;*</dt>\n",
       "\t\t<dd>4</dd>\n",
       "\t<dt>Мужской</dt>\n",
       "\t\t<dd>2182</dd>\n",
       "\t<dt>Мужской&amp;*</dt>\n",
       "\t\t<dd>2</dd>\n",
       "\t<dt>NA's</dt>\n",
       "\t\t<dd>1</dd>\n",
       "</dl>\n",
       "</dd>\n",
       "\t<dt>$marital</dt>\n",
       "\t\t<dd><dl class=dl-horizontal>\n",
       "\t<dt>_Женат</dt>\n",
       "\t\t<dd>3</dd>\n",
       "\t<dt>_Одинокий</dt>\n",
       "\t\t<dd>3</dd>\n",
       "\t<dt>Же&amp;нат</dt>\n",
       "\t\t<dd>1</dd>\n",
       "\t<dt>Женат</dt>\n",
       "\t\t<dd>2620</dd>\n",
       "\t<dt>Одинокий</dt>\n",
       "\t\t<dd>1796</dd>\n",
       "\t<dt>NA's</dt>\n",
       "\t\t<dd>1</dd>\n",
       "</dl>\n",
       "</dd>\n",
       "</dl>\n"
      ],
      "text/latex": [
       "\\begin{description}\n",
       "\\item[\\$gender] \\begin{description*}\n",
       "\\item[Женский] 2235\n",
       "\\item[Женский\\textbackslash{}\\&*] 4\n",
       "\\item[Мужской] 2182\n",
       "\\item[Мужской\\textbackslash{}\\&*] 2\n",
       "\\item[NA's] 1\n",
       "\\end{description*}\n",
       "\n",
       "\\item[\\$marital] \\begin{description*}\n",
       "\\item[\\textbackslash{}\\_Женат] 3\n",
       "\\item[\\textbackslash{}\\_Одинокий] 3\n",
       "\\item[Же\\textbackslash{}\\&нат] 1\n",
       "\\item[Женат] 2620\n",
       "\\item[Одинокий] 1796\n",
       "\\item[NA's] 1\n",
       "\\end{description*}\n",
       "\n",
       "\\end{description}\n"
      ],
      "text/markdown": [
       "$gender\n",
       ":   Женский\n",
       ":   2235Женский&amp;amp;*\n",
       ":   4Мужской\n",
       ":   2182Мужской&amp;amp;*\n",
       ":   2NA's\n",
       ":   1\n",
       "\n",
       "\n",
       "$marital\n",
       ":   _Женат\n",
       ":   3_Одинокий\n",
       ":   3Же&amp;amp;нат\n",
       ":   1Женат\n",
       ":   2620Одинокий\n",
       ":   1796NA's\n",
       ":   1\n",
       "\n",
       "\n",
       "\n",
       "\n"
      ],
      "text/plain": [
       "$gender\n",
       "  Женский Женский&*   Мужской Мужской&*      NA's \n",
       "     2235         4      2182         2         1 \n",
       "\n",
       "$marital\n",
       "   _Женат _Одинокий    Же&нат     Женат  Одинокий      NA's \n",
       "        3         3         1      2620      1796         1 \n"
      ]
     },
     "metadata": {},
     "output_type": "display_data"
    }
   ],
   "source": [
    "# создаем вектор названий переменных  \n",
    "names <- c(\"gender\", \"marital\")\n",
    "# с помощью функции lapply применяем\n",
    "# функцию summary к переменным, названия\n",
    "# которых записаны в векторе names  \n",
    "lapply(data[,names], function(x) summary(x))"
   ]
  },
  {
   "cell_type": "code",
   "execution_count": 224,
   "metadata": {},
   "outputs": [
    {
     "data": {
      "text/html": [
       "<dl>\n",
       "\t<dt>$gender</dt>\n",
       "\t\t<dd><ol class=list-inline>\n",
       "\t<li>'Женский'</li>\n",
       "\t<li>'Женский&amp;*'</li>\n",
       "\t<li>'Мужской'</li>\n",
       "\t<li>'Мужской&amp;*'</li>\n",
       "</ol>\n",
       "</dd>\n",
       "\t<dt>$marital</dt>\n",
       "\t\t<dd><ol class=list-inline>\n",
       "\t<li>'_Женат'</li>\n",
       "\t<li>'_Одинокий'</li>\n",
       "\t<li>'Же&amp;нат'</li>\n",
       "\t<li>'Женат'</li>\n",
       "\t<li>'Одинокий'</li>\n",
       "</ol>\n",
       "</dd>\n",
       "</dl>\n"
      ],
      "text/latex": [
       "\\begin{description}\n",
       "\\item[\\$gender] \\begin{enumerate*}\n",
       "\\item 'Женский'\n",
       "\\item 'Женский\\&*'\n",
       "\\item 'Мужской'\n",
       "\\item 'Мужской\\&*'\n",
       "\\end{enumerate*}\n",
       "\n",
       "\\item[\\$marital] \\begin{enumerate*}\n",
       "\\item '\\_Женат'\n",
       "\\item '\\_Одинокий'\n",
       "\\item 'Же\\&нат'\n",
       "\\item 'Женат'\n",
       "\\item 'Одинокий'\n",
       "\\end{enumerate*}\n",
       "\n",
       "\\end{description}\n"
      ],
      "text/markdown": [
       "$gender\n",
       ":   1. 'Женский'\n",
       "2. 'Женский&amp;*'\n",
       "3. 'Мужской'\n",
       "4. 'Мужской&amp;*'\n",
       "\n",
       "\n",
       "\n",
       "$marital\n",
       ":   1. '_Женат'\n",
       "2. '_Одинокий'\n",
       "3. 'Же&amp;нат'\n",
       "4. 'Женат'\n",
       "5. 'Одинокий'\n",
       "\n",
       "\n",
       "\n",
       "\n",
       "\n"
      ],
      "text/plain": [
       "$gender\n",
       "[1] \"Женский\"   \"Женский&*\" \"Мужской\"   \"Мужской&*\"\n",
       "\n",
       "$marital\n",
       "[1] \"_Женат\"    \"_Одинокий\" \"Же&нат\"    \"Женат\"     \"Одинокий\" \n"
      ]
     },
     "metadata": {},
     "output_type": "display_data"
    }
   ],
   "source": [
    "# с помощью функции lapply применяем\n",
    "# функцию levels к переменным, названия\n",
    "# которых записаны в векторе names  \n",
    "lapply(data[,names], function(x) levels(x))"
   ]
  },
  {
   "cell_type": "code",
   "execution_count": 225,
   "metadata": {
    "collapsed": true
   },
   "outputs": [],
   "source": [
    "# преобразовываем переменную gender из вектора типа factor\n",
    "# в вектор типа character (нельзя напрямую изменить строковое\n",
    "# значение фактора, потому что в факторе под капотом для строковых \n",
    "# значений используются целочисленные коды, поэтому переводим в \n",
    "# вектор типа character, у которого значения – строки)\n",
    "data$gender <- as.character(data$gender)\n",
    "\n",
    "# удаляем с помощью функции gsub символы & и *,\n",
    "# первый аргумент – удаляемые символы, второй\n",
    "# аргумент – символы, на которые нужно заменить,\n",
    "# третий аргумент – вектор типа character или строка \n",
    "data$gender <- gsub('\\\\&\\\\*', \"\", data$gender)"
   ]
  },
  {
   "cell_type": "code",
   "execution_count": 226,
   "metadata": {
    "collapsed": true
   },
   "outputs": [],
   "source": [
    "# преобразовываем переменную gender обратно из вектора\n",
    "# типа character в вектор типа factor\n",
    "data$gender <- as.factor(data$gender)"
   ]
  },
  {
   "cell_type": "code",
   "execution_count": 227,
   "metadata": {},
   "outputs": [],
   "source": [
    "# загружаем пакет stringr\n",
    "library(stringr)\n",
    "\n",
    "# преобразовываем переменную marital из вектора типа factor\n",
    "# в вектор типа character\n",
    "data$marital <- as.character(data$marital)\n",
    "\n",
    "# удаляем с помощью функции str_replace_all пакета stringr\n",
    "# все символы, не являющиеся буквами алфавита и числами\n",
    "# первый аргумент – вектор типа character или строка,\n",
    "# второй аргумент – символы, которые нужно удалить,\n",
    "# третий аргумент – символы, на которые нужно заменить\n",
    "data$marital <- str_replace_all(data$marital, \"[^[:alnum:]]\", \"\")\n",
    "\n",
    "# преобразовываем переменную marital обратно из вектора\n",
    "# типа character в вектор типа factor\n",
    "data$marital <- as.factor(data$marital) "
   ]
  },
  {
   "cell_type": "code",
   "execution_count": 228,
   "metadata": {},
   "outputs": [
    {
     "data": {
      "text/html": [
       "<dl>\n",
       "\t<dt>$gender</dt>\n",
       "\t\t<dd><ol class=list-inline>\n",
       "\t<li>'Женский'</li>\n",
       "\t<li>'Мужской'</li>\n",
       "</ol>\n",
       "</dd>\n",
       "\t<dt>$marital</dt>\n",
       "\t\t<dd><ol class=list-inline>\n",
       "\t<li>'Женат'</li>\n",
       "\t<li>'Одинокий'</li>\n",
       "</ol>\n",
       "</dd>\n",
       "</dl>\n"
      ],
      "text/latex": [
       "\\begin{description}\n",
       "\\item[\\$gender] \\begin{enumerate*}\n",
       "\\item 'Женский'\n",
       "\\item 'Мужской'\n",
       "\\end{enumerate*}\n",
       "\n",
       "\\item[\\$marital] \\begin{enumerate*}\n",
       "\\item 'Женат'\n",
       "\\item 'Одинокий'\n",
       "\\end{enumerate*}\n",
       "\n",
       "\\end{description}\n"
      ],
      "text/markdown": [
       "$gender\n",
       ":   1. 'Женский'\n",
       "2. 'Мужской'\n",
       "\n",
       "\n",
       "\n",
       "$marital\n",
       ":   1. 'Женат'\n",
       "2. 'Одинокий'\n",
       "\n",
       "\n",
       "\n",
       "\n",
       "\n"
      ],
      "text/plain": [
       "$gender\n",
       "[1] \"Женский\" \"Мужской\"\n",
       "\n",
       "$marital\n",
       "[1] \"Женат\"    \"Одинокий\"\n"
      ]
     },
     "metadata": {},
     "output_type": "display_data"
    }
   ],
   "source": [
    "# снова выводим информацию об уровнях переменной\n",
    "lapply(data[,names], function(x) levels(x))"
   ]
  },
  {
   "cell_type": "code",
   "execution_count": 229,
   "metadata": {},
   "outputs": [
    {
     "data": {
      "text/html": [
       "<dl class=dl-horizontal>\n",
       "\t<dt>Auto</dt>\n",
       "\t\t<dd>889</dd>\n",
       "\t<dt>CC</dt>\n",
       "\t\t<dd>2554</dd>\n",
       "\t<dt>CD</dt>\n",
       "\t\t<dd>2</dd>\n",
       "\t<dt>CH</dt>\n",
       "\t\t<dd>977</dd>\n",
       "\t<dt>NA's</dt>\n",
       "\t\t<dd>2</dd>\n",
       "</dl>\n"
      ],
      "text/latex": [
       "\\begin{description*}\n",
       "\\item[Auto] 889\n",
       "\\item[CC] 2554\n",
       "\\item[CD] 2\n",
       "\\item[CH] 977\n",
       "\\item[NA's] 2\n",
       "\\end{description*}\n"
      ],
      "text/markdown": [
       "Auto\n",
       ":   889CC\n",
       ":   2554CD\n",
       ":   2CH\n",
       ":   977NA's\n",
       ":   2\n",
       "\n"
      ],
      "text/plain": [
       "Auto   CC   CD   CH NA's \n",
       " 889 2554    2  977    2 "
      ]
     },
     "metadata": {},
     "output_type": "display_data"
    }
   ],
   "source": [
    "# выводим информацию о распределении\n",
    "# значений переменной pay\n",
    "summary(data$pay)"
   ]
  },
  {
   "cell_type": "code",
   "execution_count": 230,
   "metadata": {},
   "outputs": [
    {
     "data": {
      "text/html": [
       "<dl class=dl-horizontal>\n",
       "\t<dt>Auto</dt>\n",
       "\t\t<dd>889</dd>\n",
       "\t<dt>CC</dt>\n",
       "\t\t<dd>2556</dd>\n",
       "\t<dt>CH</dt>\n",
       "\t\t<dd>977</dd>\n",
       "\t<dt>NA's</dt>\n",
       "\t\t<dd>2</dd>\n",
       "</dl>\n"
      ],
      "text/latex": [
       "\\begin{description*}\n",
       "\\item[Auto] 889\n",
       "\\item[CC] 2556\n",
       "\\item[CH] 977\n",
       "\\item[NA's] 2\n",
       "\\end{description*}\n"
      ],
      "text/markdown": [
       "Auto\n",
       ":   889CC\n",
       ":   2556CH\n",
       ":   977NA's\n",
       ":   2\n",
       "\n"
      ],
      "text/plain": [
       "Auto   CC   CH NA's \n",
       " 889 2556  977    2 "
      ]
     },
     "metadata": {},
     "output_type": "display_data"
    }
   ],
   "source": [
    "# загружаем пакет car\n",
    "library(car)\n",
    "# с помощью функции recode пакета car\n",
    "# объединяем редкую категорию CD с\n",
    "# самой часто встречающейся\n",
    "# категорией CC\n",
    "data$pay <- recode(data$pay, \"'CD'='CC'\")\n",
    "# снова выводим информацию о распределении\n",
    "# значений переменной pay\n",
    "summary(data$pay)"
   ]
  },
  {
   "cell_type": "code",
   "execution_count": 231,
   "metadata": {
    "collapsed": true
   },
   "outputs": [],
   "source": [
    "# отсоединяем пакет Hmisc\n",
    "detach(\"package:Hmisc\", unload=TRUE)"
   ]
  },
  {
   "cell_type": "code",
   "execution_count": 232,
   "metadata": {
    "collapsed": true
   },
   "outputs": [],
   "source": [
    "# разбиваем набор данных на случайную \n",
    "# и контрольную выборки\n",
    "set.seed(42)\n",
    "\n",
    "data$random_number <- runif(nrow(data),0,1)\n",
    "development <- data[ which(data$random_number > 0.3), ]\n",
    "holdout <- data[ which(data$random_number <= 0.3), ]\n",
    "\n",
    "data$random_number <- NULL\n",
    "development$random_number <- NULL\n",
    "holdout$random_number <- NULL"
   ]
  },
  {
   "cell_type": "code",
   "execution_count": 233,
   "metadata": {},
   "outputs": [
    {
     "name": "stdout",
     "output_type": "stream",
     "text": [
      "'data.frame':\t3080 obs. of  10 variables:\n",
      " $ longdist: Ord.factor w/ 5 levels \"<2\"<\"2-8\"<\"9-14\"<..: 1 NA 1 1 NA NA 1 1 1 1 ...\n",
      " $ local   : Ord.factor w/ 5 levels \"<8\"<\"8-20\"<\"21-35\"<..: 1 1 1 NA 1 1 1 1 1 1 ...\n",
      " $ int_disc: Factor w/ 2 levels \"Да\",\"Нет\": 2 2 NA 2 2 2 1 2 2 2 ...\n",
      " $ billtype: Factor w/ 2 levels \"Бесплатный\",\"Бюджетный\": 2 1 1 1 1 2 NA 1 1 2 ...\n",
      " $ pay     : Factor w/ 3 levels \"Auto\",\"CC\",\"CH\": 2 2 3 1 NA NA 3 2 3 2 ...\n",
      " $ gender  : Factor w/ 2 levels \"Женский\",\"Мужской\": 2 2 2 NA 1 2 2 2 2 1 ...\n",
      " $ marital : Factor w/ 2 levels \"Женат\",\"Одинокий\": 1 1 2 2 2 1 2 1 2 1 ...\n",
      " $ income  : num  77680 37112 NA 16830 57273 ...\n",
      " $ agecat  : Ord.factor w/ 5 levels \"<31\"<\"31-45\"<..: 1 1 1 1 1 1 1 1 1 1 ...\n",
      " $ churn   : Factor w/ 2 levels \"Остается\",\"Уходит\": 2 2 1 2 2 2 2 2 1 2 ...\n"
     ]
    }
   ],
   "source": [
    "# смотрим обучающий датафрейм \n",
    "str(development)"
   ]
  },
  {
   "cell_type": "code",
   "execution_count": 234,
   "metadata": {},
   "outputs": [
    {
     "name": "stdout",
     "output_type": "stream",
     "text": [
      "'data.frame':\t1344 obs. of  10 variables:\n",
      " $ longdist: Ord.factor w/ 5 levels \"<2\"<\"2-8\"<\"9-14\"<..: 1 1 1 1 1 1 1 1 1 1 ...\n",
      " $ local   : Ord.factor w/ 5 levels \"<8\"<\"8-20\"<\"21-35\"<..: 1 1 1 1 1 1 1 1 1 1 ...\n",
      " $ int_disc: Factor w/ 2 levels \"Да\",\"Нет\": 2 2 2 2 2 2 2 2 2 2 ...\n",
      " $ billtype: Factor w/ 2 levels \"Бесплатный\",\"Бюджетный\": NA 1 1 1 1 1 1 1 2 1 ...\n",
      " $ pay     : Factor w/ 3 levels \"Auto\",\"CC\",\"CH\": 2 1 2 1 3 1 2 1 2 1 ...\n",
      " $ gender  : Factor w/ 2 levels \"Женский\",\"Мужской\": 2 2 2 1 1 2 1 2 2 2 ...\n",
      " $ marital : Factor w/ 2 levels \"Женат\",\"Одинокий\": 1 NA 2 2 1 2 2 2 1 2 ...\n",
      " $ income  : num  NA NA 24458 50969 25949 ...\n",
      " $ agecat  : Ord.factor w/ 5 levels \"<31\"<\"31-45\"<..: NA 1 1 1 1 1 2 3 3 3 ...\n",
      " $ churn   : Factor w/ 2 levels \"Остается\",\"Уходит\": 2 2 1 2 2 2 2 1 2 1 ...\n"
     ]
    }
   ],
   "source": [
    "# смотрим контрольный датафрейм \n",
    "str(holdout)"
   ]
  },
  {
   "cell_type": "code",
   "execution_count": 235,
   "metadata": {},
   "outputs": [
    {
     "data": {
      "text/html": [
       "<dl class=dl-horizontal>\n",
       "\t<dt>Остается</dt>\n",
       "\t\t<dd>1746</dd>\n",
       "\t<dt>Уходит</dt>\n",
       "\t\t<dd>1334</dd>\n",
       "</dl>\n"
      ],
      "text/latex": [
       "\\begin{description*}\n",
       "\\item[Остается] 1746\n",
       "\\item[Уходит] 1334\n",
       "\\end{description*}\n"
      ],
      "text/markdown": [
       "Остается\n",
       ":   1746Уходит\n",
       ":   1334\n",
       "\n"
      ],
      "text/plain": [
       "Остается   Уходит \n",
       "    1746     1334 "
      ]
     },
     "metadata": {},
     "output_type": "display_data"
    }
   ],
   "source": [
    "# выводим информацию о распределении\n",
    "# классов зависимой переменной churn\n",
    "# в обучающей выборке\n",
    "summary(development$churn)"
   ]
  },
  {
   "cell_type": "code",
   "execution_count": 236,
   "metadata": {},
   "outputs": [
    {
     "data": {
      "text/html": [
       "<dl class=dl-horizontal>\n",
       "\t<dt>Остается</dt>\n",
       "\t\t<dd>746</dd>\n",
       "\t<dt>Уходит</dt>\n",
       "\t\t<dd>598</dd>\n",
       "</dl>\n"
      ],
      "text/latex": [
       "\\begin{description*}\n",
       "\\item[Остается] 746\n",
       "\\item[Уходит] 598\n",
       "\\end{description*}\n"
      ],
      "text/markdown": [
       "Остается\n",
       ":   746Уходит\n",
       ":   598\n",
       "\n"
      ],
      "text/plain": [
       "Остается   Уходит \n",
       "     746      598 "
      ]
     },
     "metadata": {},
     "output_type": "display_data"
    }
   ],
   "source": [
    "# выводим информацию о распределении\n",
    "# классов зависимой переменной churn\n",
    "# в контрольной выборке\n",
    "summary(holdout$churn)"
   ]
  },
  {
   "cell_type": "code",
   "execution_count": 237,
   "metadata": {},
   "outputs": [
    {
     "data": {
      "text/html": [
       "<dl class=dl-horizontal>\n",
       "\t<dt>longdist</dt>\n",
       "\t\t<dd>3</dd>\n",
       "\t<dt>local</dt>\n",
       "\t\t<dd>1</dd>\n",
       "\t<dt>int_disc</dt>\n",
       "\t\t<dd>1</dd>\n",
       "\t<dt>billtype</dt>\n",
       "\t\t<dd>1</dd>\n",
       "\t<dt>pay</dt>\n",
       "\t\t<dd>2</dd>\n",
       "\t<dt>gender</dt>\n",
       "\t\t<dd>1</dd>\n",
       "\t<dt>marital</dt>\n",
       "\t\t<dd>0</dd>\n",
       "\t<dt>income</dt>\n",
       "\t\t<dd>2</dd>\n",
       "\t<dt>agecat</dt>\n",
       "\t\t<dd>0</dd>\n",
       "\t<dt>churn</dt>\n",
       "\t\t<dd>0</dd>\n",
       "</dl>\n"
      ],
      "text/latex": [
       "\\begin{description*}\n",
       "\\item[longdist] 3\n",
       "\\item[local] 1\n",
       "\\item[int\\textbackslash{}\\_disc] 1\n",
       "\\item[billtype] 1\n",
       "\\item[pay] 2\n",
       "\\item[gender] 1\n",
       "\\item[marital] 0\n",
       "\\item[income] 2\n",
       "\\item[agecat] 0\n",
       "\\item[churn] 0\n",
       "\\end{description*}\n"
      ],
      "text/markdown": [
       "longdist\n",
       ":   3local\n",
       ":   1int_disc\n",
       ":   1billtype\n",
       ":   1pay\n",
       ":   2gender\n",
       ":   1marital\n",
       ":   0income\n",
       ":   2agecat\n",
       ":   0churn\n",
       ":   0\n",
       "\n"
      ],
      "text/plain": [
       "longdist    local int_disc billtype      pay   gender  marital   income \n",
       "       3        1        1        1        2        1        0        2 \n",
       "  agecat    churn \n",
       "       0        0 "
      ]
     },
     "metadata": {},
     "output_type": "display_data"
    }
   ],
   "source": [
    "# выведем информацию о пропусках\n",
    "# в обучающей выборке\n",
    "sapply(development, function(x) sum(is.na(x)))"
   ]
  },
  {
   "cell_type": "code",
   "execution_count": 238,
   "metadata": {},
   "outputs": [
    {
     "data": {
      "text/html": [
       "<dl class=dl-horizontal>\n",
       "\t<dt>longdist</dt>\n",
       "\t\t<dd>0</dd>\n",
       "\t<dt>local</dt>\n",
       "\t\t<dd>0</dd>\n",
       "\t<dt>int_disc</dt>\n",
       "\t\t<dd>0</dd>\n",
       "\t<dt>billtype</dt>\n",
       "\t\t<dd>1</dd>\n",
       "\t<dt>pay</dt>\n",
       "\t\t<dd>0</dd>\n",
       "\t<dt>gender</dt>\n",
       "\t\t<dd>0</dd>\n",
       "\t<dt>marital</dt>\n",
       "\t\t<dd>1</dd>\n",
       "\t<dt>income</dt>\n",
       "\t\t<dd>2</dd>\n",
       "\t<dt>agecat</dt>\n",
       "\t\t<dd>1</dd>\n",
       "\t<dt>churn</dt>\n",
       "\t\t<dd>0</dd>\n",
       "</dl>\n"
      ],
      "text/latex": [
       "\\begin{description*}\n",
       "\\item[longdist] 0\n",
       "\\item[local] 0\n",
       "\\item[int\\textbackslash{}\\_disc] 0\n",
       "\\item[billtype] 1\n",
       "\\item[pay] 0\n",
       "\\item[gender] 0\n",
       "\\item[marital] 1\n",
       "\\item[income] 2\n",
       "\\item[agecat] 1\n",
       "\\item[churn] 0\n",
       "\\end{description*}\n"
      ],
      "text/markdown": [
       "longdist\n",
       ":   0local\n",
       ":   0int_disc\n",
       ":   0billtype\n",
       ":   1pay\n",
       ":   0gender\n",
       ":   0marital\n",
       ":   1income\n",
       ":   2agecat\n",
       ":   1churn\n",
       ":   0\n",
       "\n"
      ],
      "text/plain": [
       "longdist    local int_disc billtype      pay   gender  marital   income \n",
       "       0        0        0        1        0        0        1        2 \n",
       "  agecat    churn \n",
       "       1        0 "
      ]
     },
     "metadata": {},
     "output_type": "display_data"
    }
   ],
   "source": [
    "# выведем информацию о пропусках\n",
    "# в контрольной выборке\n",
    "sapply(holdout, function(x) sum(is.na(x)))"
   ]
  },
  {
   "cell_type": "code",
   "execution_count": 239,
   "metadata": {},
   "outputs": [
    {
     "data": {
      "text/html": [
       "<dl>\n",
       "\t<dt>$longdist</dt>\n",
       "\t\t<dd>3</dd>\n",
       "\t<dt>$local</dt>\n",
       "\t\t<dd>1</dd>\n",
       "\t<dt>$int_disc</dt>\n",
       "\t\t<dd>1</dd>\n",
       "\t<dt>$billtype</dt>\n",
       "\t\t<dd>1</dd>\n",
       "\t<dt>$pay</dt>\n",
       "\t\t<dd>2</dd>\n",
       "\t<dt>$gender</dt>\n",
       "\t\t<dd>1</dd>\n",
       "\t<dt>$marital</dt>\n",
       "\t\t<dd>0</dd>\n",
       "\t<dt>$income</dt>\n",
       "\t\t<dd>2</dd>\n",
       "\t<dt>$agecat</dt>\n",
       "\t\t<dd>0</dd>\n",
       "\t<dt>$churn</dt>\n",
       "\t\t<dd>0</dd>\n",
       "</dl>\n"
      ],
      "text/latex": [
       "\\begin{description}\n",
       "\\item[\\$longdist] 3\n",
       "\\item[\\$local] 1\n",
       "\\item[\\$int\\_disc] 1\n",
       "\\item[\\$billtype] 1\n",
       "\\item[\\$pay] 2\n",
       "\\item[\\$gender] 1\n",
       "\\item[\\$marital] 0\n",
       "\\item[\\$income] 2\n",
       "\\item[\\$agecat] 0\n",
       "\\item[\\$churn] 0\n",
       "\\end{description}\n"
      ],
      "text/markdown": [
       "$longdist\n",
       ":   3\n",
       "$local\n",
       ":   1\n",
       "$int_disc\n",
       ":   1\n",
       "$billtype\n",
       ":   1\n",
       "$pay\n",
       ":   2\n",
       "$gender\n",
       ":   1\n",
       "$marital\n",
       ":   0\n",
       "$income\n",
       ":   2\n",
       "$agecat\n",
       ":   0\n",
       "$churn\n",
       ":   0\n",
       "\n",
       "\n"
      ],
      "text/plain": [
       "$longdist\n",
       "[1] 3\n",
       "\n",
       "$local\n",
       "[1] 1\n",
       "\n",
       "$int_disc\n",
       "[1] 1\n",
       "\n",
       "$billtype\n",
       "[1] 1\n",
       "\n",
       "$pay\n",
       "[1] 2\n",
       "\n",
       "$gender\n",
       "[1] 1\n",
       "\n",
       "$marital\n",
       "[1] 0\n",
       "\n",
       "$income\n",
       "[1] 2\n",
       "\n",
       "$agecat\n",
       "[1] 0\n",
       "\n",
       "$churn\n",
       "[1] 0\n"
      ]
     },
     "metadata": {},
     "output_type": "display_data"
    }
   ],
   "source": [
    "# выведем информацию о пропусках в обучающей выборке\n",
    "# c помощью lapply, теперь результат будет\n",
    "# возвращен в виде списка\n",
    "lapply(development, function(x) sum(is.na(x)))"
   ]
  },
  {
   "cell_type": "code",
   "execution_count": 240,
   "metadata": {},
   "outputs": [
    {
     "data": {
      "text/html": [
       "<dl>\n",
       "\t<dt>$longdist</dt>\n",
       "\t\t<dd>0</dd>\n",
       "\t<dt>$local</dt>\n",
       "\t\t<dd>0</dd>\n",
       "\t<dt>$int_disc</dt>\n",
       "\t\t<dd>0</dd>\n",
       "\t<dt>$billtype</dt>\n",
       "\t\t<dd>1</dd>\n",
       "\t<dt>$pay</dt>\n",
       "\t\t<dd>0</dd>\n",
       "\t<dt>$gender</dt>\n",
       "\t\t<dd>0</dd>\n",
       "\t<dt>$marital</dt>\n",
       "\t\t<dd>1</dd>\n",
       "\t<dt>$income</dt>\n",
       "\t\t<dd>2</dd>\n",
       "\t<dt>$agecat</dt>\n",
       "\t\t<dd>1</dd>\n",
       "\t<dt>$churn</dt>\n",
       "\t\t<dd>0</dd>\n",
       "</dl>\n"
      ],
      "text/latex": [
       "\\begin{description}\n",
       "\\item[\\$longdist] 0\n",
       "\\item[\\$local] 0\n",
       "\\item[\\$int\\_disc] 0\n",
       "\\item[\\$billtype] 1\n",
       "\\item[\\$pay] 0\n",
       "\\item[\\$gender] 0\n",
       "\\item[\\$marital] 1\n",
       "\\item[\\$income] 2\n",
       "\\item[\\$agecat] 1\n",
       "\\item[\\$churn] 0\n",
       "\\end{description}\n"
      ],
      "text/markdown": [
       "$longdist\n",
       ":   0\n",
       "$local\n",
       ":   0\n",
       "$int_disc\n",
       ":   0\n",
       "$billtype\n",
       ":   1\n",
       "$pay\n",
       ":   0\n",
       "$gender\n",
       ":   0\n",
       "$marital\n",
       ":   1\n",
       "$income\n",
       ":   2\n",
       "$agecat\n",
       ":   1\n",
       "$churn\n",
       ":   0\n",
       "\n",
       "\n"
      ],
      "text/plain": [
       "$longdist\n",
       "[1] 0\n",
       "\n",
       "$local\n",
       "[1] 0\n",
       "\n",
       "$int_disc\n",
       "[1] 0\n",
       "\n",
       "$billtype\n",
       "[1] 1\n",
       "\n",
       "$pay\n",
       "[1] 0\n",
       "\n",
       "$gender\n",
       "[1] 0\n",
       "\n",
       "$marital\n",
       "[1] 1\n",
       "\n",
       "$income\n",
       "[1] 2\n",
       "\n",
       "$agecat\n",
       "[1] 1\n",
       "\n",
       "$churn\n",
       "[1] 0\n"
      ]
     },
     "metadata": {},
     "output_type": "display_data"
    }
   ],
   "source": [
    "# выведем информацию о пропусках в контрольной выборке\n",
    "# c помощью lapply, теперь результат будет\n",
    "# возвращен в виде списка\n",
    "lapply(holdout, function(x) sum(is.na(x)))"
   ]
  },
  {
   "cell_type": "code",
   "execution_count": 241,
   "metadata": {},
   "outputs": [
    {
     "data": {
      "text/html": [
       "50184.2742397661"
      ],
      "text/latex": [
       "50184.2742397661"
      ],
      "text/markdown": [
       "50184.2742397661"
      ],
      "text/plain": [
       "[1] 50184.27"
      ]
     },
     "metadata": {},
     "output_type": "display_data"
    }
   ],
   "source": [
    "# вычисляем среднее значение\n",
    "# переменной income\n",
    "mean(development$income, na.rm = TRUE)"
   ]
  },
  {
   "cell_type": "code",
   "execution_count": 242,
   "metadata": {
    "collapsed": true
   },
   "outputs": [],
   "source": [
    "# выполняем импутацию пропусков с помощью среднего, обратите\n",
    "# внимание, среднее было вычислено отдельно для\n",
    "# каждой выборки\n",
    "development$income[is.na(development$income)] <- mean(development$income, na.rm=TRUE)\n",
    "holdout$income[is.na(holdout$income)] <- mean(holdout$income, na.rm=TRUE)"
   ]
  },
  {
   "cell_type": "code",
   "execution_count": 243,
   "metadata": {},
   "outputs": [
    {
     "data": {
      "text/html": [
       "<table>\n",
       "<thead><tr><th></th><th scope=col>longdist</th><th scope=col>local</th><th scope=col>int_disc</th><th scope=col>billtype</th><th scope=col>pay</th><th scope=col>gender</th><th scope=col>marital</th><th scope=col>income</th><th scope=col>agecat</th><th scope=col>churn</th></tr></thead>\n",
       "<tbody>\n",
       "\t<tr><th scope=row>1</th><td>&lt;2                                           </td><td>&lt;8                                           </td><td>Нет                                             </td><td>Бюджетный                                       </td><td><span style=white-space:pre-wrap>CC  </span>    </td><td>Мужской                                         </td><td><span style=white-space:pre-wrap>Женат   </span></td><td>77680.00                                        </td><td>&lt;31                                          </td><td><span style=white-space:pre-wrap>Уходит  </span></td></tr>\n",
       "\t<tr><th scope=row>2</th><td>NA                                              </td><td>&lt;8                                           </td><td>Нет                                             </td><td>Бесплатный                                      </td><td><span style=white-space:pre-wrap>CC  </span>    </td><td>Мужской                                         </td><td><span style=white-space:pre-wrap>Женат   </span></td><td>37111.50                                        </td><td>&lt;31                                          </td><td><span style=white-space:pre-wrap>Уходит  </span></td></tr>\n",
       "\t<tr><th scope=row>4</th><td>&lt;2                                       </td><td>&lt;8                                       </td><td>NA                                          </td><td>Бесплатный                                  </td><td><span style=white-space:pre-wrap>CH  </span></td><td>Мужской                                     </td><td>Одинокий                                    </td><td>50184.27                                    </td><td>&lt;31                                      </td><td>Остается                                    </td></tr>\n",
       "\t<tr><th scope=row>5</th><td>&lt;2                                           </td><td>NA                                              </td><td>Нет                                             </td><td>Бесплатный                                      </td><td>Auto                                            </td><td><span style=white-space:pre-wrap>NA     </span> </td><td>Одинокий                                        </td><td>16829.60                                        </td><td>&lt;31                                          </td><td><span style=white-space:pre-wrap>Уходит  </span></td></tr>\n",
       "\t<tr><th scope=row>6</th><td>NA                                              </td><td>&lt;8                                           </td><td>Нет                                             </td><td>Бесплатный                                      </td><td><span style=white-space:pre-wrap>NA  </span>    </td><td>Женский                                         </td><td>Одинокий                                        </td><td>57272.70                                        </td><td>&lt;31                                          </td><td><span style=white-space:pre-wrap>Уходит  </span></td></tr>\n",
       "\t<tr><th scope=row>7</th><td>NA                                              </td><td>&lt;8                                           </td><td>Нет                                             </td><td>Бюджетный                                       </td><td><span style=white-space:pre-wrap>NA  </span>    </td><td>Мужской                                         </td><td><span style=white-space:pre-wrap>Женат   </span></td><td>50184.27                                        </td><td>&lt;31                                          </td><td><span style=white-space:pre-wrap>Уходит  </span></td></tr>\n",
       "\t<tr><th scope=row>9</th><td>&lt;2                                             </td><td>&lt;8                                             </td><td>Да                                                </td><td><span style=white-space:pre-wrap>NA        </span></td><td><span style=white-space:pre-wrap>CH  </span>      </td><td>Мужской                                           </td><td>Одинокий                                          </td><td>92167.30                                          </td><td>&lt;31                                            </td><td><span style=white-space:pre-wrap>Уходит  </span>  </td></tr>\n",
       "\t<tr><th scope=row>10</th><td>&lt;2                                           </td><td>&lt;8                                           </td><td>Нет                                             </td><td>Бесплатный                                      </td><td><span style=white-space:pre-wrap>CC  </span>    </td><td>Мужской                                         </td><td><span style=white-space:pre-wrap>Женат   </span></td><td>37135.50                                        </td><td>&lt;31                                          </td><td><span style=white-space:pre-wrap>Уходит  </span></td></tr>\n",
       "\t<tr><th scope=row>11</th><td>&lt;2                                       </td><td>&lt;8                                       </td><td>Нет                                         </td><td>Бесплатный                                  </td><td><span style=white-space:pre-wrap>CH  </span></td><td>Мужской                                     </td><td>Одинокий                                    </td><td>18831.10                                    </td><td>&lt;31                                      </td><td>Остается                                    </td></tr>\n",
       "\t<tr><th scope=row>12</th><td>&lt;2                                           </td><td>&lt;8                                           </td><td>Нет                                             </td><td>Бюджетный                                       </td><td><span style=white-space:pre-wrap>CC  </span>    </td><td>Женский                                         </td><td><span style=white-space:pre-wrap>Женат   </span></td><td>19654.90                                        </td><td>&lt;31                                          </td><td><span style=white-space:pre-wrap>Уходит  </span></td></tr>\n",
       "</tbody>\n",
       "</table>\n"
      ],
      "text/latex": [
       "\\begin{tabular}{r|llllllllll}\n",
       "  & longdist & local & int\\_disc & billtype & pay & gender & marital & income & agecat & churn\\\\\n",
       "\\hline\n",
       "\t1 & <2         & <8         & Нет        & Бюджетный  & CC         & Мужской    & Женат      & 77680.00   & <31        & Уходит    \\\\\n",
       "\t2 & NA         & <8         & Нет        & Бесплатный & CC         & Мужской    & Женат      & 37111.50   & <31        & Уходит    \\\\\n",
       "\t4 & <2         & <8         & NA         & Бесплатный & CH         & Мужской    & Одинокий   & 50184.27   & <31        & Остается  \\\\\n",
       "\t5 & <2         & NA         & Нет        & Бесплатный & Auto       & NA         & Одинокий   & 16829.60   & <31        & Уходит    \\\\\n",
       "\t6 & NA         & <8         & Нет        & Бесплатный & NA         & Женский    & Одинокий   & 57272.70   & <31        & Уходит    \\\\\n",
       "\t7 & NA         & <8         & Нет        & Бюджетный  & NA         & Мужской    & Женат      & 50184.27   & <31        & Уходит    \\\\\n",
       "\t9 & <2         & <8         & Да         & NA         & CH         & Мужской    & Одинокий   & 92167.30   & <31        & Уходит    \\\\\n",
       "\t10 & <2         & <8         & Нет        & Бесплатный & CC         & Мужской    & Женат      & 37135.50   & <31        & Уходит    \\\\\n",
       "\t11 & <2         & <8         & Нет        & Бесплатный & CH         & Мужской    & Одинокий   & 18831.10   & <31        & Остается  \\\\\n",
       "\t12 & <2         & <8         & Нет        & Бюджетный  & CC         & Женский    & Женат      & 19654.90   & <31        & Уходит    \\\\\n",
       "\\end{tabular}\n"
      ],
      "text/markdown": [
       "\n",
       "| <!--/--> | longdist | local | int_disc | billtype | pay | gender | marital | income | agecat | churn | \n",
       "|---|---|---|---|---|---|---|---|---|---|\n",
       "| 1 | <2         | <8         | Нет        | Бюджетный  | CC         | Мужской    | Женат      | 77680.00   | <31        | Уходит     | \n",
       "| 2 | NA         | <8         | Нет        | Бесплатный | CC         | Мужской    | Женат      | 37111.50   | <31        | Уходит     | \n",
       "| 4 | <2         | <8         | NA         | Бесплатный | CH         | Мужской    | Одинокий   | 50184.27   | <31        | Остается   | \n",
       "| 5 | <2         | NA         | Нет        | Бесплатный | Auto       | NA         | Одинокий   | 16829.60   | <31        | Уходит     | \n",
       "| 6 | NA         | <8         | Нет        | Бесплатный | NA         | Женский    | Одинокий   | 57272.70   | <31        | Уходит     | \n",
       "| 7 | NA         | <8         | Нет        | Бюджетный  | NA         | Мужской    | Женат      | 50184.27   | <31        | Уходит     | \n",
       "| 9 | <2         | <8         | Да         | NA         | CH         | Мужской    | Одинокий   | 92167.30   | <31        | Уходит     | \n",
       "| 10 | <2         | <8         | Нет        | Бесплатный | CC         | Мужской    | Женат      | 37135.50   | <31        | Уходит     | \n",
       "| 11 | <2         | <8         | Нет        | Бесплатный | CH         | Мужской    | Одинокий   | 18831.10   | <31        | Остается   | \n",
       "| 12 | <2         | <8         | Нет        | Бюджетный  | CC         | Женский    | Женат      | 19654.90   | <31        | Уходит     | \n",
       "\n",
       "\n"
      ],
      "text/plain": [
       "   longdist local int_disc billtype   pay  gender  marital  income   agecat\n",
       "1  <2       <8    Нет      Бюджетный  CC   Мужской Женат    77680.00 <31   \n",
       "2  NA       <8    Нет      Бесплатный CC   Мужской Женат    37111.50 <31   \n",
       "4  <2       <8    NA       Бесплатный CH   Мужской Одинокий 50184.27 <31   \n",
       "5  <2       NA    Нет      Бесплатный Auto NA      Одинокий 16829.60 <31   \n",
       "6  NA       <8    Нет      Бесплатный NA   Женский Одинокий 57272.70 <31   \n",
       "7  NA       <8    Нет      Бюджетный  NA   Мужской Женат    50184.27 <31   \n",
       "9  <2       <8    Да       NA         CH   Мужской Одинокий 92167.30 <31   \n",
       "10 <2       <8    Нет      Бесплатный CC   Мужской Женат    37135.50 <31   \n",
       "11 <2       <8    Нет      Бесплатный CH   Мужской Одинокий 18831.10 <31   \n",
       "12 <2       <8    Нет      Бюджетный  CC   Женский Женат    19654.90 <31   \n",
       "   churn   \n",
       "1  Уходит  \n",
       "2  Уходит  \n",
       "4  Остается\n",
       "5  Уходит  \n",
       "6  Уходит  \n",
       "7  Уходит  \n",
       "9  Уходит  \n",
       "10 Уходит  \n",
       "11 Остается\n",
       "12 Уходит  "
      ]
     },
     "metadata": {},
     "output_type": "display_data"
    }
   ],
   "source": [
    "# выведем первые 10 наблюдений \n",
    "# датафрейма development \n",
    "head(development, 10)"
   ]
  },
  {
   "cell_type": "code",
   "execution_count": 244,
   "metadata": {
    "collapsed": true
   },
   "outputs": [],
   "source": [
    "# создаем индикатор пропусков, у функции ifelse первый аргумент –\n",
    "# проверяемое условие (является ли наблюдение переменной billtype\n",
    "# пропущенным), второй аргумент – значение, которое возвращается,\n",
    "# если условие выполняется, третий аргумент – значение, которое\n",
    "# возвращается, если условие не выполняется\n",
    "development$billtype_ind <- ifelse(is.na(development$billtype), 1, 0)"
   ]
  },
  {
   "cell_type": "code",
   "execution_count": 245,
   "metadata": {},
   "outputs": [
    {
     "data": {
      "text/html": [
       "<ol class=list-inline>\n",
       "\t<li>0</li>\n",
       "\t<li>0</li>\n",
       "\t<li>0</li>\n",
       "\t<li>0</li>\n",
       "\t<li>0</li>\n",
       "\t<li>0</li>\n",
       "\t<li>1</li>\n",
       "\t<li>0</li>\n",
       "\t<li>0</li>\n",
       "\t<li>0</li>\n",
       "</ol>\n"
      ],
      "text/latex": [
       "\\begin{enumerate*}\n",
       "\\item 0\n",
       "\\item 0\n",
       "\\item 0\n",
       "\\item 0\n",
       "\\item 0\n",
       "\\item 0\n",
       "\\item 1\n",
       "\\item 0\n",
       "\\item 0\n",
       "\\item 0\n",
       "\\end{enumerate*}\n"
      ],
      "text/markdown": [
       "1. 0\n",
       "2. 0\n",
       "3. 0\n",
       "4. 0\n",
       "5. 0\n",
       "6. 0\n",
       "7. 1\n",
       "8. 0\n",
       "9. 0\n",
       "10. 0\n",
       "\n",
       "\n"
      ],
      "text/plain": [
       " [1] 0 0 0 0 0 0 1 0 0 0"
      ]
     },
     "metadata": {},
     "output_type": "display_data"
    }
   ],
   "source": [
    "# выводим первые 10 наблюдений новой\n",
    "# переменной billtype_ind\n",
    "head(development[,\"billtype_ind\"], 10)"
   ]
  },
  {
   "cell_type": "code",
   "execution_count": 246,
   "metadata": {
    "collapsed": true
   },
   "outputs": [],
   "source": [
    "# удаляем переменную billtype_ind\n",
    "development$billtype_ind <- NULL"
   ]
  },
  {
   "cell_type": "code",
   "execution_count": 247,
   "metadata": {},
   "outputs": [
    {
     "data": {
      "text/html": [
       "<ol class=list-inline>\n",
       "\t<li>Бюджетный</li>\n",
       "\t<li>Бесплатный</li>\n",
       "\t<li>Бесплатный</li>\n",
       "\t<li>Бесплатный</li>\n",
       "\t<li>Бесплатный</li>\n",
       "\t<li>Бюджетный</li>\n",
       "\t<li>MISSING</li>\n",
       "\t<li>Бесплатный</li>\n",
       "\t<li>Бесплатный</li>\n",
       "\t<li>Бюджетный</li>\n",
       "</ol>\n"
      ],
      "text/latex": [
       "\\begin{enumerate*}\n",
       "\\item Бюджетный\n",
       "\\item Бесплатный\n",
       "\\item Бесплатный\n",
       "\\item Бесплатный\n",
       "\\item Бесплатный\n",
       "\\item Бюджетный\n",
       "\\item MISSING\n",
       "\\item Бесплатный\n",
       "\\item Бесплатный\n",
       "\\item Бюджетный\n",
       "\\end{enumerate*}\n"
      ],
      "text/markdown": [
       "1. Бюджетный\n",
       "2. Бесплатный\n",
       "3. Бесплатный\n",
       "4. Бесплатный\n",
       "5. Бесплатный\n",
       "6. Бюджетный\n",
       "7. MISSING\n",
       "8. Бесплатный\n",
       "9. Бесплатный\n",
       "10. Бюджетный\n",
       "\n",
       "\n"
      ],
      "text/plain": [
       " [1] Бюджетный  Бесплатный Бесплатный Бесплатный Бесплатный Бюджетный \n",
       " [7] MISSING    Бесплатный Бесплатный Бюджетный \n",
       "Levels: MISSING Бесплатный Бюджетный"
      ]
     },
     "metadata": {},
     "output_type": "display_data"
    }
   ],
   "source": [
    "# с помощью функции recode пакета car запишем пропуски\n",
    "# в отдельную категорию MISSING\n",
    "development$billtype2 <- recode(development$billtype, \"NA='MISSING'\")\n",
    "# смотрим первые 10 наблюдений переменной billtype2\n",
    "head(development[,\"billtype2\"], 10)"
   ]
  },
  {
   "cell_type": "code",
   "execution_count": 248,
   "metadata": {
    "collapsed": true
   },
   "outputs": [],
   "source": [
    "# удаляем переменную billtype2\n",
    "development$billtype2 <- NULL"
   ]
  },
  {
   "cell_type": "code",
   "execution_count": 249,
   "metadata": {
    "collapsed": true
   },
   "outputs": [],
   "source": [
    "# с помощью функции lapply преобразовываем переменные \n",
    "# longdist, local и agecat в неупорядоченные\n",
    "# факторы\n",
    "names <- c(\"longdist\", \"local\", \"agecat\")\n",
    "development[,names] <- lapply(development[,names], factor, ordered=FALSE)\n",
    "holdout[,names] <- lapply(holdout[,names], factor, ordered=FALSE)"
   ]
  },
  {
   "cell_type": "code",
   "execution_count": 250,
   "metadata": {},
   "outputs": [
    {
     "name": "stdout",
     "output_type": "stream",
     "text": [
      "$longdist\n",
      "[1] \"15-20\"\n",
      "\n",
      "$local\n",
      "[1] \"21-35\"\n",
      "\n",
      "$int_disc\n",
      "[1] \"Нет\"\n",
      "\n",
      "$billtype\n",
      "[1] \"Бюджетный\"\n",
      "\n",
      "$pay\n",
      "[1] \"CC\"\n",
      "\n",
      "$gender\n",
      "[1] \"Мужской\"\n",
      "\n",
      "$marital\n",
      "[1] \"Женат\"\n",
      "\n",
      "$income\n",
      "[1] 50290.7\n",
      "\n",
      "$agecat\n",
      "[1] \"31-45\"\n",
      "\n",
      "$churn\n",
      "[1] \"Остается\"\n",
      "\n"
     ]
    }
   ],
   "source": [
    "# загружаем пакет imputeMissings\n",
    "library(imputeMissings)\n",
    "# с помощью функции compute пакета\n",
    "# imputeMissings вычисляем моды и\n",
    "# медианы для импутации\n",
    "values <- compute(development)\n",
    "print(values)"
   ]
  },
  {
   "cell_type": "code",
   "execution_count": 184,
   "metadata": {},
   "outputs": [
    {
     "data": {
      "text/html": [
       "<dl class=dl-horizontal>\n",
       "\t<dt>longdist</dt>\n",
       "\t\t<dd>3</dd>\n",
       "\t<dt>local</dt>\n",
       "\t\t<dd>1</dd>\n",
       "\t<dt>int_disc</dt>\n",
       "\t\t<dd>1</dd>\n",
       "\t<dt>billtype</dt>\n",
       "\t\t<dd>1</dd>\n",
       "\t<dt>pay</dt>\n",
       "\t\t<dd>2</dd>\n",
       "\t<dt>gender</dt>\n",
       "\t\t<dd>1</dd>\n",
       "\t<dt>marital</dt>\n",
       "\t\t<dd>0</dd>\n",
       "\t<dt>income</dt>\n",
       "\t\t<dd>0</dd>\n",
       "\t<dt>agecat</dt>\n",
       "\t\t<dd>0</dd>\n",
       "\t<dt>churn</dt>\n",
       "\t\t<dd>0</dd>\n",
       "</dl>\n"
      ],
      "text/latex": [
       "\\begin{description*}\n",
       "\\item[longdist] 3\n",
       "\\item[local] 1\n",
       "\\item[int\\textbackslash{}\\_disc] 1\n",
       "\\item[billtype] 1\n",
       "\\item[pay] 2\n",
       "\\item[gender] 1\n",
       "\\item[marital] 0\n",
       "\\item[income] 0\n",
       "\\item[agecat] 0\n",
       "\\item[churn] 0\n",
       "\\end{description*}\n"
      ],
      "text/markdown": [
       "longdist\n",
       ":   3local\n",
       ":   1int_disc\n",
       ":   1billtype\n",
       ":   1pay\n",
       ":   2gender\n",
       ":   1marital\n",
       ":   0income\n",
       ":   0agecat\n",
       ":   0churn\n",
       ":   0\n",
       "\n"
      ],
      "text/plain": [
       "longdist    local int_disc billtype      pay   gender  marital   income \n",
       "       3        1        1        1        2        1        0        0 \n",
       "  agecat    churn \n",
       "       0        0 "
      ]
     },
     "metadata": {},
     "output_type": "display_data"
    }
   ],
   "source": [
    "# выводим сводку о количестве пропусков в\n",
    "# каждой переменной с помощью функции\n",
    "# colSums пакета imputeMissings\n",
    "colSums(is.na(development))"
   ]
  },
  {
   "cell_type": "code",
   "execution_count": 185,
   "metadata": {
    "collapsed": true
   },
   "outputs": [],
   "source": [
    "# выполняем автоматическую импутацию с помощью\n",
    "# функции impute пакета imputeMissings\n",
    "development <- impute(development, method = \"median/mode\")\n",
    "holdout <- impute(holdout, method = \"median/mode\")"
   ]
  },
  {
   "cell_type": "code",
   "execution_count": 186,
   "metadata": {
    "collapsed": true
   },
   "outputs": [],
   "source": [
    "# с помощью функции ordered преобразовываем переменные \n",
    "# longdist, local и agecat обратно в упорядоченные\n",
    "# факторы\n",
    "development$longdist <- ordered(development$longdist, \n",
    "                                levels = c(\"<2\", \"2-8\", \"9-14\", \"15-20\", \"21+\"))\n",
    "development$local <- ordered(development$local, \n",
    "                             levels = c(\"<8\", \"8-20\", \"21-35\", \"36-55\", \"56+\"))\n",
    "development$agecat <- ordered(development$agecat, \n",
    "                              levels = c(\"<31\", \"31-45\", \"46-58\", \"59-70\", \"71+\"))\n",
    "holdout$longdist <- ordered(holdout$longdist, \n",
    "                            levels = c(\"<2\", \"2-8\", \"9-14\", \"15-20\", \"21+\"))\n",
    "holdout$local <- ordered(holdout$local, \n",
    "                         levels = c(\"<8\", \"8-20\", \"21-35\", \"36-55\", \"56+\"))\n",
    "holdout$agecat <- ordered(holdout$agecat, \n",
    "                          levels = c(\"<31\", \"31-45\", \"46-58\", \"59-70\", \"71+\"))"
   ]
  },
  {
   "cell_type": "code",
   "execution_count": 187,
   "metadata": {},
   "outputs": [
    {
     "data": {
      "text/html": [
       "<dl class=dl-horizontal>\n",
       "\t<dt>longdist</dt>\n",
       "\t\t<dd>0</dd>\n",
       "\t<dt>local</dt>\n",
       "\t\t<dd>0</dd>\n",
       "\t<dt>int_disc</dt>\n",
       "\t\t<dd>0</dd>\n",
       "\t<dt>billtype</dt>\n",
       "\t\t<dd>0</dd>\n",
       "\t<dt>pay</dt>\n",
       "\t\t<dd>0</dd>\n",
       "\t<dt>gender</dt>\n",
       "\t\t<dd>0</dd>\n",
       "\t<dt>marital</dt>\n",
       "\t\t<dd>0</dd>\n",
       "\t<dt>income</dt>\n",
       "\t\t<dd>0</dd>\n",
       "\t<dt>agecat</dt>\n",
       "\t\t<dd>0</dd>\n",
       "\t<dt>churn</dt>\n",
       "\t\t<dd>0</dd>\n",
       "</dl>\n"
      ],
      "text/latex": [
       "\\begin{description*}\n",
       "\\item[longdist] 0\n",
       "\\item[local] 0\n",
       "\\item[int\\textbackslash{}\\_disc] 0\n",
       "\\item[billtype] 0\n",
       "\\item[pay] 0\n",
       "\\item[gender] 0\n",
       "\\item[marital] 0\n",
       "\\item[income] 0\n",
       "\\item[agecat] 0\n",
       "\\item[churn] 0\n",
       "\\end{description*}\n"
      ],
      "text/markdown": [
       "longdist\n",
       ":   0local\n",
       ":   0int_disc\n",
       ":   0billtype\n",
       ":   0pay\n",
       ":   0gender\n",
       ":   0marital\n",
       ":   0income\n",
       ":   0agecat\n",
       ":   0churn\n",
       ":   0\n",
       "\n"
      ],
      "text/plain": [
       "longdist    local int_disc billtype      pay   gender  marital   income \n",
       "       0        0        0        0        0        0        0        0 \n",
       "  agecat    churn \n",
       "       0        0 "
      ]
     },
     "metadata": {},
     "output_type": "display_data"
    }
   ],
   "source": [
    "# выводим информацию о пропусках в обучающей выборке\n",
    "sapply(development, function(x) sum(is.na(x)))"
   ]
  },
  {
   "cell_type": "code",
   "execution_count": 188,
   "metadata": {},
   "outputs": [
    {
     "data": {
      "text/html": [
       "<dl class=dl-horizontal>\n",
       "\t<dt>longdist</dt>\n",
       "\t\t<dd>0</dd>\n",
       "\t<dt>local</dt>\n",
       "\t\t<dd>0</dd>\n",
       "\t<dt>int_disc</dt>\n",
       "\t\t<dd>0</dd>\n",
       "\t<dt>billtype</dt>\n",
       "\t\t<dd>0</dd>\n",
       "\t<dt>pay</dt>\n",
       "\t\t<dd>0</dd>\n",
       "\t<dt>gender</dt>\n",
       "\t\t<dd>0</dd>\n",
       "\t<dt>marital</dt>\n",
       "\t\t<dd>0</dd>\n",
       "\t<dt>income</dt>\n",
       "\t\t<dd>0</dd>\n",
       "\t<dt>agecat</dt>\n",
       "\t\t<dd>0</dd>\n",
       "\t<dt>churn</dt>\n",
       "\t\t<dd>0</dd>\n",
       "</dl>\n"
      ],
      "text/latex": [
       "\\begin{description*}\n",
       "\\item[longdist] 0\n",
       "\\item[local] 0\n",
       "\\item[int\\textbackslash{}\\_disc] 0\n",
       "\\item[billtype] 0\n",
       "\\item[pay] 0\n",
       "\\item[gender] 0\n",
       "\\item[marital] 0\n",
       "\\item[income] 0\n",
       "\\item[agecat] 0\n",
       "\\item[churn] 0\n",
       "\\end{description*}\n"
      ],
      "text/markdown": [
       "longdist\n",
       ":   0local\n",
       ":   0int_disc\n",
       ":   0billtype\n",
       ":   0pay\n",
       ":   0gender\n",
       ":   0marital\n",
       ":   0income\n",
       ":   0agecat\n",
       ":   0churn\n",
       ":   0\n",
       "\n"
      ],
      "text/plain": [
       "longdist    local int_disc billtype      pay   gender  marital   income \n",
       "       0        0        0        0        0        0        0        0 \n",
       "  agecat    churn \n",
       "       0        0 "
      ]
     },
     "metadata": {},
     "output_type": "display_data"
    }
   ],
   "source": [
    "# выводим информацию о пропусках в контрольной выборке\n",
    "sapply(holdout, function(x) sum(is.na(x)))"
   ]
  },
  {
   "cell_type": "code",
   "execution_count": 189,
   "metadata": {},
   "outputs": [
    {
     "data": {
      "text/html": [
       "<ol class=list-inline>\n",
       "\t<li>110.28</li>\n",
       "\t<li>99832.9</li>\n",
       "</ol>\n"
      ],
      "text/latex": [
       "\\begin{enumerate*}\n",
       "\\item 110.28\n",
       "\\item 99832.9\n",
       "\\end{enumerate*}\n"
      ],
      "text/markdown": [
       "1. 110.28\n",
       "2. 99832.9\n",
       "\n",
       "\n"
      ],
      "text/plain": [
       "[1]   110.28 99832.90"
      ]
     },
     "metadata": {},
     "output_type": "display_data"
    }
   ],
   "source": [
    "# выводим диапазон значений \n",
    "# переменной income\n",
    "range(development$income)"
   ]
  },
  {
   "cell_type": "code",
   "execution_count": 190,
   "metadata": {
    "collapsed": true
   },
   "outputs": [],
   "source": [
    "# разбиваем переменную income на 10 интервалов\n",
    "# одинаковой ширины\n",
    "development$binned <-cut(x=development$income, breaks=seq(0, 100000, by=10000), \n",
    "                         include.lowest=TRUE, right=TRUE, \n",
    "                         ordered_result=TRUE, dig.lab = 6)"
   ]
  },
  {
   "cell_type": "code",
   "execution_count": 191,
   "metadata": {},
   "outputs": [
    {
     "data": {
      "text/html": [
       "<dl class=dl-horizontal>\n",
       "\t<dt>[0,10000]</dt>\n",
       "\t\t<dd>278</dd>\n",
       "\t<dt>(10000,20000]</dt>\n",
       "\t\t<dd>321</dd>\n",
       "\t<dt>(20000,30000]</dt>\n",
       "\t\t<dd>307</dd>\n",
       "\t<dt>(30000,40000]</dt>\n",
       "\t\t<dd>307</dd>\n",
       "\t<dt>(40000,50000]</dt>\n",
       "\t\t<dd>283</dd>\n",
       "\t<dt>(50000,60000]</dt>\n",
       "\t\t<dd>382</dd>\n",
       "\t<dt>(60000,70000]</dt>\n",
       "\t\t<dd>319</dd>\n",
       "\t<dt>(70000,80000]</dt>\n",
       "\t\t<dd>268</dd>\n",
       "\t<dt>(80000,90000]</dt>\n",
       "\t\t<dd>308</dd>\n",
       "\t<dt>(90000,100000]</dt>\n",
       "\t\t<dd>307</dd>\n",
       "</dl>\n"
      ],
      "text/latex": [
       "\\begin{description*}\n",
       "\\item[\\{{[}\\}0,10000\\{{]}\\}] 278\n",
       "\\item[(10000,20000\\{{]}\\}] 321\n",
       "\\item[(20000,30000\\{{]}\\}] 307\n",
       "\\item[(30000,40000\\{{]}\\}] 307\n",
       "\\item[(40000,50000\\{{]}\\}] 283\n",
       "\\item[(50000,60000\\{{]}\\}] 382\n",
       "\\item[(60000,70000\\{{]}\\}] 319\n",
       "\\item[(70000,80000\\{{]}\\}] 268\n",
       "\\item[(80000,90000\\{{]}\\}] 308\n",
       "\\item[(90000,100000\\{{]}\\}] 307\n",
       "\\end{description*}\n"
      ],
      "text/markdown": [
       "[0,10000]\n",
       ":   278(10000,20000]\n",
       ":   321(20000,30000]\n",
       ":   307(30000,40000]\n",
       ":   307(40000,50000]\n",
       ":   283(50000,60000]\n",
       ":   382(60000,70000]\n",
       ":   319(70000,80000]\n",
       ":   268(80000,90000]\n",
       ":   308(90000,100000]\n",
       ":   307\n",
       "\n"
      ],
      "text/plain": [
       "     [0,10000]  (10000,20000]  (20000,30000]  (30000,40000]  (40000,50000] \n",
       "           278            321            307            307            283 \n",
       " (50000,60000]  (60000,70000]  (70000,80000]  (80000,90000] (90000,100000] \n",
       "           382            319            268            308            307 "
      ]
     },
     "metadata": {},
     "output_type": "display_data"
    }
   ],
   "source": [
    "# смотрим распределение значений\n",
    "# переменной binned\n",
    "summary(development$binned)"
   ]
  },
  {
   "cell_type": "code",
   "execution_count": 192,
   "metadata": {
    "collapsed": true
   },
   "outputs": [],
   "source": [
    "# загружаем пакет lsr\n",
    "library(lsr)\n",
    "# с помощью функции quantileCut пакета lsr разбиваем\n",
    "# переменную income на 10 интервалов c одинаковым\n",
    "# количеством наблюдений\n",
    "development$binned2 <- quantileCut(x=development$income, n=10, \n",
    "                                   include.lowest=TRUE, right=TRUE, \n",
    "                                   ordered_result=TRUE, dig.lab=6)"
   ]
  },
  {
   "cell_type": "code",
   "execution_count": 193,
   "metadata": {},
   "outputs": [
    {
     "data": {
      "text/html": [
       "<dl class=dl-horizontal>\n",
       "\t<dt>[10.5574,11254.7]</dt>\n",
       "\t\t<dd>308</dd>\n",
       "\t<dt>(11254.7,20806.8]</dt>\n",
       "\t\t<dd>308</dd>\n",
       "\t<dt>(20806.8,30901.3]</dt>\n",
       "\t\t<dd>310</dd>\n",
       "\t<dt>(30901.3,40756]</dt>\n",
       "\t\t<dd>306</dd>\n",
       "\t<dt>(40756,50290.7]</dt>\n",
       "\t\t<dd>341</dd>\n",
       "\t<dt>(50290.7,58990.9]</dt>\n",
       "\t\t<dd>275</dd>\n",
       "\t<dt>(58990.9,68767]</dt>\n",
       "\t\t<dd>309</dd>\n",
       "\t<dt>(68767,79962.5]</dt>\n",
       "\t\t<dd>307</dd>\n",
       "\t<dt>(79962.5,89931.5]</dt>\n",
       "\t\t<dd>308</dd>\n",
       "\t<dt>(89931.5,99932.6]</dt>\n",
       "\t\t<dd>308</dd>\n",
       "</dl>\n"
      ],
      "text/latex": [
       "\\begin{description*}\n",
       "\\item[\\{{[}\\}10.5574,11254.7\\{{]}\\}] 308\n",
       "\\item[(11254.7,20806.8\\{{]}\\}] 308\n",
       "\\item[(20806.8,30901.3\\{{]}\\}] 310\n",
       "\\item[(30901.3,40756\\{{]}\\}] 306\n",
       "\\item[(40756,50290.7\\{{]}\\}] 341\n",
       "\\item[(50290.7,58990.9\\{{]}\\}] 275\n",
       "\\item[(58990.9,68767\\{{]}\\}] 309\n",
       "\\item[(68767,79962.5\\{{]}\\}] 307\n",
       "\\item[(79962.5,89931.5\\{{]}\\}] 308\n",
       "\\item[(89931.5,99932.6\\{{]}\\}] 308\n",
       "\\end{description*}\n"
      ],
      "text/markdown": [
       "[10.5574,11254.7]\n",
       ":   308(11254.7,20806.8]\n",
       ":   308(20806.8,30901.3]\n",
       ":   310(30901.3,40756]\n",
       ":   306(40756,50290.7]\n",
       ":   341(50290.7,58990.9]\n",
       ":   275(58990.9,68767]\n",
       ":   309(68767,79962.5]\n",
       ":   307(79962.5,89931.5]\n",
       ":   308(89931.5,99932.6]\n",
       ":   308\n",
       "\n"
      ],
      "text/plain": [
       "[10.5574,11254.7] (11254.7,20806.8] (20806.8,30901.3]   (30901.3,40756] \n",
       "              308               308               310               306 \n",
       "  (40756,50290.7] (50290.7,58990.9]   (58990.9,68767]   (68767,79962.5] \n",
       "              341               275               309               307 \n",
       "(79962.5,89931.5] (89931.5,99932.6] \n",
       "              308               308 "
      ]
     },
     "metadata": {},
     "output_type": "display_data"
    }
   ],
   "source": [
    "# смотрим распределение значений\n",
    "# переменной binned2\n",
    "summary(development$binned2)"
   ]
  },
  {
   "cell_type": "code",
   "execution_count": 194,
   "metadata": {},
   "outputs": [
    {
     "name": "stdout",
     "output_type": "stream",
     "text": [
      "'data.frame':\t3080 obs. of  12 variables:\n",
      " $ longdist: Ord.factor w/ 5 levels \"<2\"<\"2-8\"<\"9-14\"<..: 1 4 1 1 4 4 1 1 1 1 ...\n",
      " $ local   : Ord.factor w/ 5 levels \"<8\"<\"8-20\"<\"21-35\"<..: 1 1 1 3 1 1 1 1 1 1 ...\n",
      " $ int_disc: Factor w/ 2 levels \"Да\",\"Нет\": 2 2 2 2 2 2 1 2 2 2 ...\n",
      " $ billtype: Factor w/ 2 levels \"Бесплатный\",\"Бюджетный\": 2 1 1 1 1 2 2 1 1 2 ...\n",
      " $ pay     : Factor w/ 3 levels \"Auto\",\"CC\",\"CH\": 2 2 3 1 2 2 3 2 3 2 ...\n",
      " $ gender  : Factor w/ 2 levels \"Женский\",\"Мужской\": 2 2 2 2 1 2 2 2 2 1 ...\n",
      " $ marital : Factor w/ 2 levels \"Женат\",\"Одинокий\": 1 1 2 2 2 1 2 1 2 1 ...\n",
      " $ income  : num  77680 37112 50184 16830 57273 ...\n",
      " $ agecat  : Ord.factor w/ 5 levels \"<31\"<\"31-45\"<..: 1 1 1 1 1 1 1 1 1 1 ...\n",
      " $ churn   : Factor w/ 2 levels \"Остается\",\"Уходит\": 2 2 1 2 2 2 2 2 1 2 ...\n",
      " $ binned  : Ord.factor w/ 10 levels \"[0,10000]\"<\"(10000,20000]\"<..: 8 4 6 2 6 6 10 4 2 2 ...\n",
      " $ binned2 : Ord.factor w/ 10 levels \"[10.5574,11254.7]\"<..: 8 4 5 2 6 5 10 4 2 2 ...\n"
     ]
    }
   ],
   "source": [
    "# смотрим типы переменных\n",
    "str(development)"
   ]
  },
  {
   "cell_type": "code",
   "execution_count": 195,
   "metadata": {
    "collapsed": true
   },
   "outputs": [],
   "source": [
    "# удаляем только что созданные переменные\n",
    "development$binned <- NULL\n",
    "development$binned2 <- NULL"
   ]
  },
  {
   "cell_type": "code",
   "execution_count": 196,
   "metadata": {
    "collapsed": true
   },
   "outputs": [],
   "source": [
    "# выполняем биннинг с учетом полученных правил разбиения\n",
    "development$income <-cut(x=development$income, \n",
    "                         breaks=c(-Inf,11000,21000,31000,41000,\n",
    "                                  50000,59000,69000,80000,\n",
    "                                  90000,+Inf), \n",
    "                         include.lowest=TRUE, \n",
    "                         ordered_result=TRUE)\n",
    "\n",
    "holdout$income <-cut(x=holdout$income, \n",
    "                     breaks=c(-Inf,11000,21000,31000,41000,\n",
    "                              50000,59000,69000,80000,\n",
    "                              90000,+Inf), \n",
    "                     include.lowest=TRUE, \n",
    "                     ordered_result=TRUE)"
   ]
  },
  {
   "cell_type": "code",
   "execution_count": 197,
   "metadata": {},
   "outputs": [],
   "source": [
    "# загружаем пакет CHAID\n",
    "library(CHAID)"
   ]
  },
  {
   "cell_type": "code",
   "execution_count": 198,
   "metadata": {
    "collapsed": true
   },
   "outputs": [],
   "source": [
    "# задаем набор условий для построения дерева CHAID\n",
    "params <- chaid_control(minprob = 0.01, minsplit = 1000, minbucket = 500)\n",
    "# строим модель дерева CHAID\n",
    "chd  <- chaid(churn ~ ., control = params, development)"
   ]
  },
  {
   "cell_type": "code",
   "execution_count": 199,
   "metadata": {},
   "outputs": [
    {
     "data": {
      "image/png": "[encoded data removed]",
      "text/plain": [
       "plot without title"
      ]
     },
     "metadata": {},
     "output_type": "display_data"
    }
   ],
   "source": [
    "plot(chd)"
   ]
  },
  {
   "cell_type": "code",
   "execution_count": 200,
   "metadata": {},
   "outputs": [
    {
     "name": "stdout",
     "output_type": "stream",
     "text": [
      "\n",
      "Model formula:\n",
      "churn ~ longdist + local + int_disc + billtype + pay + gender + \n",
      "    marital + income + agecat\n",
      "\n",
      "Fitted party:\n",
      "[1] root\n",
      "|   [2] gender in Женский\n",
      "|   |   [3] longdist <2: Уходит (n = 279, err = 7.9%)\n",
      "|   |   [4] longdist in 2-8, 9-14: Уходит (n = 608, err = 34.4%)\n",
      "|   |   [5] longdist in 15-20, 21+: Уходит (n = 644, err = 42.7%)\n",
      "|   [6] gender in Мужской\n",
      "|   |   [7] local <8: Уходит (n = 248, err = 44.4%)\n",
      "|   |   [8] local in 8-20, 21-35, 36-55, 56+\n",
      "|   |   |   [9] agecat <31: Остается (n = 205, err = 31.2%)\n",
      "|   |   |   [10] agecat in 31-45, 46-58, 59-70, 71+\n",
      "|   |   |   |   [11] longdist <2: Остается (n = 70, err = 4.3%)\n",
      "|   |   |   |   [12] longdist in 2-8: Остается (n = 248, err = 13.3%)\n",
      "|   |   |   |   [13] longdist in 9-14, 15-20: Остается (n = 582, err = 7.4%)\n",
      "|   |   |   |   [14] longdist in 21+: Остается (n = 196, err = 14.3%)\n",
      "\n",
      "Number of inner nodes:    5\n",
      "Number of terminal nodes: 9\n"
     ]
    }
   ],
   "source": [
    "print(chd)"
   ]
  },
  {
   "cell_type": "code",
   "execution_count": null,
   "metadata": {
    "collapsed": true
   },
   "outputs": [],
   "source": []
  }
 ],
 "metadata": {
  "kernelspec": {
   "display_name": "R",
   "language": "R",
   "name": "ir"
  },
  "language_info": {
   "codemirror_mode": "r",
   "file_extension": ".r",
   "mimetype": "text/x-r-source",
   "name": "R",
   "pygments_lexer": "r",
   "version": "3.4.2"
  }
 },
 "nbformat": 4,
 "nbformat_minor": 2
}
